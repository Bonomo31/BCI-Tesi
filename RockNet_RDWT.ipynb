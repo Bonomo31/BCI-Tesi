{
 "cells": [
  {
   "cell_type": "markdown",
   "metadata": {},
   "source": [
    "# BCI Giuseppe Bonomo"
   ]
  },
  {
   "cell_type": "code",
   "execution_count": 1,
   "metadata": {
    "colab": {
     "base_uri": "https://localhost:8080/"
    },
    "id": "kExkM1UKKKJ-",
    "outputId": "360334b4-6e59-4d0e-b46a-cb0ba6750b6e"
   },
   "outputs": [
    {
     "name": "stdout",
     "output_type": "stream",
     "text": [
      "fatal: destination path 'EEG-ATCNet' already exists and is not an empty directory.\n",
      "Requirement already satisfied: mne in /Users/giuseppebonomo/miniconda3/lib/python3.12/site-packages (1.9.0)\n",
      "Requirement already satisfied: decorator in /Users/giuseppebonomo/miniconda3/lib/python3.12/site-packages (from mne) (5.1.1)\n",
      "Requirement already satisfied: jinja2 in /Users/giuseppebonomo/miniconda3/lib/python3.12/site-packages (from mne) (3.1.5)\n",
      "Requirement already satisfied: lazy-loader>=0.3 in /Users/giuseppebonomo/miniconda3/lib/python3.12/site-packages (from mne) (0.4)\n",
      "Requirement already satisfied: matplotlib>=3.6 in /Users/giuseppebonomo/miniconda3/lib/python3.12/site-packages (from mne) (3.10.0)\n",
      "Requirement already satisfied: numpy<3,>=1.23 in /Users/giuseppebonomo/miniconda3/lib/python3.12/site-packages (from mne) (1.26.4)\n",
      "Requirement already satisfied: packaging in /Users/giuseppebonomo/miniconda3/lib/python3.12/site-packages (from mne) (24.1)\n",
      "Requirement already satisfied: pooch>=1.5 in /Users/giuseppebonomo/miniconda3/lib/python3.12/site-packages (from mne) (1.8.2)\n",
      "Requirement already satisfied: scipy>=1.9 in /Users/giuseppebonomo/miniconda3/lib/python3.12/site-packages (from mne) (1.15.1)\n",
      "Requirement already satisfied: tqdm in /Users/giuseppebonomo/miniconda3/lib/python3.12/site-packages (from mne) (4.66.5)\n",
      "Requirement already satisfied: contourpy>=1.0.1 in /Users/giuseppebonomo/miniconda3/lib/python3.12/site-packages (from matplotlib>=3.6->mne) (1.3.1)\n",
      "Requirement already satisfied: cycler>=0.10 in /Users/giuseppebonomo/miniconda3/lib/python3.12/site-packages (from matplotlib>=3.6->mne) (0.12.1)\n",
      "Requirement already satisfied: fonttools>=4.22.0 in /Users/giuseppebonomo/miniconda3/lib/python3.12/site-packages (from matplotlib>=3.6->mne) (4.55.5)\n",
      "Requirement already satisfied: kiwisolver>=1.3.1 in /Users/giuseppebonomo/miniconda3/lib/python3.12/site-packages (from matplotlib>=3.6->mne) (1.4.8)\n",
      "Requirement already satisfied: pillow>=8 in /Users/giuseppebonomo/miniconda3/lib/python3.12/site-packages (from matplotlib>=3.6->mne) (11.1.0)\n",
      "Requirement already satisfied: pyparsing>=2.3.1 in /Users/giuseppebonomo/miniconda3/lib/python3.12/site-packages (from matplotlib>=3.6->mne) (3.2.1)\n",
      "Requirement already satisfied: python-dateutil>=2.7 in /Users/giuseppebonomo/miniconda3/lib/python3.12/site-packages (from matplotlib>=3.6->mne) (2.9.0.post0)\n",
      "Requirement already satisfied: platformdirs>=2.5.0 in /Users/giuseppebonomo/miniconda3/lib/python3.12/site-packages (from pooch>=1.5->mne) (3.10.0)\n",
      "Requirement already satisfied: requests>=2.19.0 in /Users/giuseppebonomo/miniconda3/lib/python3.12/site-packages (from pooch>=1.5->mne) (2.32.3)\n",
      "Requirement already satisfied: MarkupSafe>=2.0 in /Users/giuseppebonomo/miniconda3/lib/python3.12/site-packages (from jinja2->mne) (3.0.2)\n",
      "Requirement already satisfied: six>=1.5 in /Users/giuseppebonomo/miniconda3/lib/python3.12/site-packages (from python-dateutil>=2.7->matplotlib>=3.6->mne) (1.17.0)\n",
      "Requirement already satisfied: charset-normalizer<4,>=2 in /Users/giuseppebonomo/miniconda3/lib/python3.12/site-packages (from requests>=2.19.0->pooch>=1.5->mne) (3.3.2)\n",
      "Requirement already satisfied: idna<4,>=2.5 in /Users/giuseppebonomo/miniconda3/lib/python3.12/site-packages (from requests>=2.19.0->pooch>=1.5->mne) (3.7)\n",
      "Requirement already satisfied: urllib3<3,>=1.21.1 in /Users/giuseppebonomo/miniconda3/lib/python3.12/site-packages (from requests>=2.19.0->pooch>=1.5->mne) (1.26.20)\n",
      "Requirement already satisfied: certifi>=2017.4.17 in /Users/giuseppebonomo/miniconda3/lib/python3.12/site-packages (from requests>=2.19.0->pooch>=1.5->mne) (2024.12.14)\n",
      "Requirement already satisfied: PyWavelets in /Users/giuseppebonomo/miniconda3/lib/python3.12/site-packages (1.8.0)\n",
      "Requirement already satisfied: numpy<3,>=1.23 in /Users/giuseppebonomo/miniconda3/lib/python3.12/site-packages (from PyWavelets) (1.26.4)\n",
      "Requirement already satisfied: braindecode==0.3 in /Users/giuseppebonomo/miniconda3/lib/python3.12/site-packages (0.3.0)\n",
      "Requirement already satisfied: mne in /Users/giuseppebonomo/miniconda3/lib/python3.12/site-packages (from braindecode==0.3) (1.9.0)\n",
      "Requirement already satisfied: numpy in /Users/giuseppebonomo/miniconda3/lib/python3.12/site-packages (from braindecode==0.3) (1.26.4)\n",
      "Requirement already satisfied: pandas in /Users/giuseppebonomo/miniconda3/lib/python3.12/site-packages (from braindecode==0.3) (2.2.3)\n",
      "Requirement already satisfied: scipy in /Users/giuseppebonomo/miniconda3/lib/python3.12/site-packages (from braindecode==0.3) (1.15.1)\n",
      "Requirement already satisfied: resampy in /Users/giuseppebonomo/miniconda3/lib/python3.12/site-packages (from braindecode==0.3) (0.4.3)\n",
      "Requirement already satisfied: matplotlib in /Users/giuseppebonomo/miniconda3/lib/python3.12/site-packages (from braindecode==0.3) (3.10.0)\n",
      "Requirement already satisfied: h5py in /Users/giuseppebonomo/miniconda3/lib/python3.12/site-packages (from braindecode==0.3) (3.13.0)\n",
      "Requirement already satisfied: contourpy>=1.0.1 in /Users/giuseppebonomo/miniconda3/lib/python3.12/site-packages (from matplotlib->braindecode==0.3) (1.3.1)\n",
      "Requirement already satisfied: cycler>=0.10 in /Users/giuseppebonomo/miniconda3/lib/python3.12/site-packages (from matplotlib->braindecode==0.3) (0.12.1)\n",
      "Requirement already satisfied: fonttools>=4.22.0 in /Users/giuseppebonomo/miniconda3/lib/python3.12/site-packages (from matplotlib->braindecode==0.3) (4.55.5)\n",
      "Requirement already satisfied: kiwisolver>=1.3.1 in /Users/giuseppebonomo/miniconda3/lib/python3.12/site-packages (from matplotlib->braindecode==0.3) (1.4.8)\n",
      "Requirement already satisfied: packaging>=20.0 in /Users/giuseppebonomo/miniconda3/lib/python3.12/site-packages (from matplotlib->braindecode==0.3) (24.1)\n",
      "Requirement already satisfied: pillow>=8 in /Users/giuseppebonomo/miniconda3/lib/python3.12/site-packages (from matplotlib->braindecode==0.3) (11.1.0)\n",
      "Requirement already satisfied: pyparsing>=2.3.1 in /Users/giuseppebonomo/miniconda3/lib/python3.12/site-packages (from matplotlib->braindecode==0.3) (3.2.1)\n",
      "Requirement already satisfied: python-dateutil>=2.7 in /Users/giuseppebonomo/miniconda3/lib/python3.12/site-packages (from matplotlib->braindecode==0.3) (2.9.0.post0)\n",
      "Requirement already satisfied: decorator in /Users/giuseppebonomo/miniconda3/lib/python3.12/site-packages (from mne->braindecode==0.3) (5.1.1)\n",
      "Requirement already satisfied: jinja2 in /Users/giuseppebonomo/miniconda3/lib/python3.12/site-packages (from mne->braindecode==0.3) (3.1.5)\n",
      "Requirement already satisfied: lazy-loader>=0.3 in /Users/giuseppebonomo/miniconda3/lib/python3.12/site-packages (from mne->braindecode==0.3) (0.4)\n",
      "Requirement already satisfied: pooch>=1.5 in /Users/giuseppebonomo/miniconda3/lib/python3.12/site-packages (from mne->braindecode==0.3) (1.8.2)\n",
      "Requirement already satisfied: tqdm in /Users/giuseppebonomo/miniconda3/lib/python3.12/site-packages (from mne->braindecode==0.3) (4.66.5)\n",
      "Requirement already satisfied: pytz>=2020.1 in /Users/giuseppebonomo/miniconda3/lib/python3.12/site-packages (from pandas->braindecode==0.3) (2024.2)\n",
      "Requirement already satisfied: tzdata>=2022.7 in /Users/giuseppebonomo/miniconda3/lib/python3.12/site-packages (from pandas->braindecode==0.3) (2025.1)\n",
      "Requirement already satisfied: numba>=0.53 in /Users/giuseppebonomo/miniconda3/lib/python3.12/site-packages (from resampy->braindecode==0.3) (0.61.0)\n",
      "Requirement already satisfied: llvmlite<0.45,>=0.44.0dev0 in /Users/giuseppebonomo/miniconda3/lib/python3.12/site-packages (from numba>=0.53->resampy->braindecode==0.3) (0.44.0)\n",
      "Requirement already satisfied: platformdirs>=2.5.0 in /Users/giuseppebonomo/miniconda3/lib/python3.12/site-packages (from pooch>=1.5->mne->braindecode==0.3) (3.10.0)\n",
      "Requirement already satisfied: requests>=2.19.0 in /Users/giuseppebonomo/miniconda3/lib/python3.12/site-packages (from pooch>=1.5->mne->braindecode==0.3) (2.32.3)\n",
      "Requirement already satisfied: six>=1.5 in /Users/giuseppebonomo/miniconda3/lib/python3.12/site-packages (from python-dateutil>=2.7->matplotlib->braindecode==0.3) (1.17.0)\n",
      "Requirement already satisfied: MarkupSafe>=2.0 in /Users/giuseppebonomo/miniconda3/lib/python3.12/site-packages (from jinja2->mne->braindecode==0.3) (3.0.2)\n",
      "Requirement already satisfied: charset-normalizer<4,>=2 in /Users/giuseppebonomo/miniconda3/lib/python3.12/site-packages (from requests>=2.19.0->pooch>=1.5->mne->braindecode==0.3) (3.3.2)\n",
      "Requirement already satisfied: idna<4,>=2.5 in /Users/giuseppebonomo/miniconda3/lib/python3.12/site-packages (from requests>=2.19.0->pooch>=1.5->mne->braindecode==0.3) (3.7)\n",
      "Requirement already satisfied: urllib3<3,>=1.21.1 in /Users/giuseppebonomo/miniconda3/lib/python3.12/site-packages (from requests>=2.19.0->pooch>=1.5->mne->braindecode==0.3) (1.26.20)\n",
      "Requirement already satisfied: certifi>=2017.4.17 in /Users/giuseppebonomo/miniconda3/lib/python3.12/site-packages (from requests>=2.19.0->pooch>=1.5->mne->braindecode==0.3) (2024.12.14)\n"
     ]
    }
   ],
   "source": [
    "#%%\n",
    "!git clone https://github.com/marco-siino/EEG-ATCNet.git\n",
    "!pip install mne\n",
    "!pip install PyWavelets\n",
    "#Le ulitme versioni non sono compatibili con le librerie usate\n",
    "#in preprocess_HGD.py, quindi si è optato a utilizzare una versione meno recente\n",
    "!pip install braindecode==0.3\n",
    "\n",
    "import os\n",
    "import sys\n",
    "import shutil\n",
    "import time\n",
    "import pywt\n",
    "import numpy as np\n",
    "import matplotlib.pyplot as plt\n",
    "import tensorflow as tf\n",
    "\n",
    "from tensorflow.keras.optimizers import Adam\n",
    "from tensorflow.keras.losses import CategoricalCrossentropy\n",
    "from tensorflow.keras.callbacks import ModelCheckpoint, EarlyStopping, ReduceLROnPlateau\n",
    "from sklearn.metrics import confusion_matrix, accuracy_score, ConfusionMatrixDisplay\n",
    "from sklearn.metrics import cohen_kappa_score\n",
    "from sklearn.model_selection import train_test_split\n",
    "os.chdir(\"/Users/giuseppebonomo/Desktop/UNIPA CdLM Ing_Informatica/Tesi/CodiceBCI/EEG-ATCNet\")\n",
    "\n",
    "import models\n",
    "\n",
    "#from preprocess import get_data\n",
    "# from keras.utils.vis_utils import plot_model"
   ]
  },
  {
   "cell_type": "markdown",
   "metadata": {
    "id": "anMFWoueUv95"
   },
   "source": [
    "# Organize the dataset."
   ]
  },
  {
   "cell_type": "code",
   "execution_count": 2,
   "metadata": {
    "id": "PM6WBGY4fBe9"
   },
   "outputs": [],
   "source": [
    "# Creare la cartella \"dataset\" e \"results\" se non esistono già\n",
    "os.makedirs(\"dataset\", exist_ok=True)\n",
    "\n",
    "#Crea la sotto-cartella train e test\n",
    "os.makedirs(\"dataset/train\", exist_ok=True)\n",
    "os.makedirs(\"dataset/test\", exist_ok=True)"
   ]
  },
  {
   "cell_type": "code",
   "execution_count": 3,
   "metadata": {},
   "outputs": [
    {
     "data": {
      "text/plain": [
       "'import os\\nimport requests\\nfrom pathlib import Path\\nfrom tqdm import tqdm\\n\\n# Definizione URL base\\ntrain_url = \"https://gin.g-node.org/robintibor/high-gamma-dataset/raw/master/data/train\"\\ntest_url = \"https://gin.g-node.org/robintibor/high-gamma-dataset/raw/master/data/test\"\\n\\n# Creazione cartelle se non esistono\\ntrain_dir = Path(\"dataset/train\")\\ntest_dir = Path(\"dataset/test\")\\ntrain_dir.mkdir(parents=True, exist_ok=True)\\ntest_dir.mkdir(parents=True, exist_ok=True)\\n\\ndef download_file(url, filepath):\\n    #Scarica un file con una barra di avanzamento\\n    response = requests.get(url, stream=True)\\n    if response.status_code == 200:\\n        total_size = int(response.headers.get(\"content-length\", 0))\\n        with open(filepath, \"wb\") as f, tqdm(\\n            desc=filepath.name, total=total_size, unit=\"B\", unit_scale=True\\n        ) as bar:\\n            for chunk in response.iter_content(chunk_size=1024):\\n                f.write(chunk)\\n                bar.update(len(chunk))\\n    else:\\n        print(f\"Errore nel download di {url}: {response.status_code}\")\\n\\n# Scarico i file di train e test\\nfor i in range(1, 15):\\n    train_file = train_dir / f\"{i}.mat\"\\n    test_file = test_dir / f\"{i}.mat\"\\n\\n    download_file(f\"{train_url}/{i}.mat\", train_file)\\n    download_file(f\"{test_url}/{i}.mat\", test_file)\\n\\nprint(\"Download completato!\")\\n'"
      ]
     },
     "execution_count": 3,
     "metadata": {},
     "output_type": "execute_result"
    }
   ],
   "source": [
    "\"\"\"import os\n",
    "import requests\n",
    "from pathlib import Path\n",
    "from tqdm import tqdm\n",
    "\n",
    "# Definizione URL base\n",
    "train_url = \"https://gin.g-node.org/robintibor/high-gamma-dataset/raw/master/data/train\"\n",
    "test_url = \"https://gin.g-node.org/robintibor/high-gamma-dataset/raw/master/data/test\"\n",
    "\n",
    "# Creazione cartelle se non esistono\n",
    "train_dir = Path(\"dataset/train\")\n",
    "test_dir = Path(\"dataset/test\")\n",
    "train_dir.mkdir(parents=True, exist_ok=True)\n",
    "test_dir.mkdir(parents=True, exist_ok=True)\n",
    "\n",
    "def download_file(url, filepath):\n",
    "    #Scarica un file con una barra di avanzamento\n",
    "    response = requests.get(url, stream=True)\n",
    "    if response.status_code == 200:\n",
    "        total_size = int(response.headers.get(\"content-length\", 0))\n",
    "        with open(filepath, \"wb\") as f, tqdm(\n",
    "            desc=filepath.name, total=total_size, unit=\"B\", unit_scale=True\n",
    "        ) as bar:\n",
    "            for chunk in response.iter_content(chunk_size=1024):\n",
    "                f.write(chunk)\n",
    "                bar.update(len(chunk))\n",
    "    else:\n",
    "        print(f\"Errore nel download di {url}: {response.status_code}\")\n",
    "\n",
    "# Scarico i file di train e test\n",
    "for i in range(1, 15):\n",
    "    train_file = train_dir / f\"{i}.mat\"\n",
    "    test_file = test_dir / f\"{i}.mat\"\n",
    "\n",
    "    download_file(f\"{train_url}/{i}.mat\", train_file)\n",
    "    download_file(f\"{test_url}/{i}.mat\", test_file)\n",
    "\n",
    "print(\"Download completato!\")\n",
    "\"\"\""
   ]
  },
  {
   "cell_type": "code",
   "execution_count": 4,
   "metadata": {
    "id": "XKTWW88RTAU5"
   },
   "outputs": [
    {
     "data": {
      "text/plain": [
       "'#Scarico i dati di train e test per High Gamma Dataset\\ntrain = \"https://gin.g-node.org/robintibor/high-gamma-dataset/src/master/data/train\"\\ntest = \"https://gin.g-node.org/robintibor/high-gamma-dataset/src/master/data/test\"\\n\\n#Assegno ad ogni dato un id T per train e E per evaluation, aggiungendoli alla cartella s{i}\\nfor i in range(1, 15):\\n    os.system(f\"wget -O dataset/train/{i}.mat {train}/{i}.mat\")\\n    os.system(f\"wget -O dataset/test/{i}.mat {test}/{i}.mat\")'"
      ]
     },
     "execution_count": 4,
     "metadata": {},
     "output_type": "execute_result"
    }
   ],
   "source": [
    "\"\"\"#Scarico i dati di train e test per High Gamma Dataset\n",
    "train = \"https://gin.g-node.org/robintibor/high-gamma-dataset/src/master/data/train\"\n",
    "test = \"https://gin.g-node.org/robintibor/high-gamma-dataset/src/master/data/test\"\n",
    "\n",
    "#Assegno ad ogni dato un id T per train e E per evaluation, aggiungendoli alla cartella s{i}\n",
    "for i in range(1, 15):\n",
    "    os.system(f\"wget -O dataset/train/{i}.mat {train}/{i}.mat\")\n",
    "    os.system(f\"wget -O dataset/test/{i}.mat {test}/{i}.mat\")\"\"\""
   ]
  },
  {
   "cell_type": "code",
   "execution_count": 5,
   "metadata": {
    "colab": {
     "base_uri": "https://localhost:8080/",
     "height": 86
    },
    "id": "KrRurPbzKuRH",
    "outputId": "29e5ae86-abd1-45b5-c7a2-ab508986e733"
   },
   "outputs": [
    {
     "data": {
      "text/plain": [
       "'# Download the dataset.\\nbase_url = \"https://bnci-horizon-2020.eu/database/data-sets/001-2014/\"\\nsave_path = \"dataset/\"\\n\\nfor i in range(1, 10):  # Da A01 a A09\\n    for suffix in [\"T\", \"E\"]:  # T per training, E per evaluation\\n        filename = f\"A{i:02d}{suffix}.mat\"\\n        url = base_url + filename\\n        os.system(f\"wget -O {save_path}s{i}/{filename} {url}\")'"
      ]
     },
     "execution_count": 5,
     "metadata": {},
     "output_type": "execute_result"
    }
   ],
   "source": [
    "\"\"\"# Download the dataset.\n",
    "base_url = \"https://bnci-horizon-2020.eu/database/data-sets/001-2014/\"\n",
    "save_path = \"dataset/\"\n",
    "\n",
    "for i in range(1, 10):  # Da A01 a A09\n",
    "    for suffix in [\"T\", \"E\"]:  # T per training, E per evaluation\n",
    "        filename = f\"A{i:02d}{suffix}.mat\"\n",
    "        url = base_url + filename\n",
    "        os.system(f\"wget -O {save_path}s{i}/{filename} {url}\")\"\"\""
   ]
  },
  {
   "cell_type": "markdown",
   "metadata": {
    "id": "lKIHsRuSU-zn"
   },
   "source": [
    "# Functions definitions"
   ]
  },
  {
   "cell_type": "code",
   "execution_count": 6,
   "metadata": {
    "id": "n6r2i2nHVDHa"
   },
   "outputs": [],
   "source": [
    "#%%\n",
    "def draw_learning_curves(history, sub):\n",
    "    plt.plot(history.history['accuracy'])\n",
    "    plt.plot(history.history['val_accuracy'])\n",
    "    plt.title('Model accuracy - subject: ' + str(sub))\n",
    "    plt.ylabel('Accuracy')\n",
    "    plt.xlabel('Epoch')\n",
    "    plt.legend(['Train', 'val'], loc='upper left')\n",
    "    plt.show()\n",
    "    plt.plot(history.history['loss'])\n",
    "    plt.plot(history.history['val_loss'])\n",
    "    plt.title('Model loss - subject: ' + str(sub))\n",
    "    plt.ylabel('Loss')\n",
    "    plt.xlabel('Epoch')\n",
    "    plt.legend(['Train', 'val'], loc='upper left')\n",
    "    plt.show()\n",
    "    plt.close()\n",
    "\n",
    "def draw_confusion_matrix(cf_matrix, sub, results_path, classes_labels):\n",
    "    # Generate confusion matrix plot\n",
    "    display_labels = classes_labels\n",
    "    disp = ConfusionMatrixDisplay(confusion_matrix=cf_matrix,\n",
    "                                display_labels=display_labels)\n",
    "    disp.plot()\n",
    "    disp.ax_.set_xticklabels(display_labels, rotation=12)\n",
    "    plt.title('Confusion Matrix of Subject: ' + sub )\n",
    "    plt.savefig(results_path + '/subject_' + sub + '.png')\n",
    "    plt.show()\n",
    "\n",
    "def draw_performance_barChart(num_sub, metric, label):\n",
    "    fig, ax = plt.subplots()\n",
    "    x = list(range(1, num_sub+1))\n",
    "    ax.bar(x, metric, 0.5, label=label)\n",
    "    ax.set_ylabel(label)\n",
    "    ax.set_xlabel(\"Subject\")\n",
    "    ax.set_xticks(x)\n",
    "    ax.set_title('Model '+ label + ' per subject')\n",
    "    ax.set_ylim([0,1])"
   ]
  },
  {
   "cell_type": "markdown",
   "metadata": {
    "id": "byiRKS6cVQpE"
   },
   "source": [
    "# Preprocessing functions definition"
   ]
  },
  {
   "cell_type": "markdown",
   "metadata": {
    "id": "JBbRpj7xW3P4"
   },
   "source": [
    "## DB4 (Soft -> Threshold 5.5)"
   ]
  },
  {
   "cell_type": "code",
   "execution_count": 7,
   "metadata": {
    "id": "lUw3WgVjXEb6"
   },
   "outputs": [],
   "source": [
    "def db4_soft(signal, wavelet='db4', level=4, threshold=5.5):\n",
    "    \"\"\"\n",
    "    Applica la RDWT (Discrete Wavelet Transform) al segnale e lo ricostruisce,\n",
    "    rimuovendo i coefficienti di dettaglio sotto una certa soglia per enfatizzare\n",
    "    le caratteristiche principali del segnale.\n",
    "\n",
    "    Args:\n",
    "    - signal: il segnale da elaborare\n",
    "    - wavelet: tipo di wavelet da utilizzare (default 'db4')\n",
    "    - level: livello della decomposizione (default 4)\n",
    "    - threshold: soglia per i coefficienti di dettaglio (default 0.5)\n",
    "\n",
    "    Returns:\n",
    "    - Il segnale ricostruito dopo la manipolazione della RDWT\n",
    "    \"\"\"\n",
    "\n",
    "\n",
    "    print(\"Lunghezza originale:\", signal.shape[-1])  # Dovrebbe essere 1125\n",
    "    coeffs = pywt.wavedec(signal, wavelet, mode='per', level=level)\n",
    "    print(\"Lunghezza coefficiente di approssimazione:\", len(coeffs[0]))\n",
    "\n",
    "    reconstructed_signal = pywt.waverec(coeffs, wavelet, mode='per')\n",
    "    print(\"Lunghezza ricostruita:\", len(reconstructed_signal))\n",
    "\n",
    "    # Decomposizione del segnale in coefficienti\n",
    "    coeffs = pywt.wavedec(signal, wavelet, mode='per', level=level)\n",
    "\n",
    "    # Modifica i coefficienti di dettaglio\n",
    "    # Si applica un threshold sui coefficienti di dettaglio per \"ridurre\" la componente di alta frequenza\n",
    "    coeffs_thresholded = [coeffs[0]]  # Mantieni il coefficiente di approssimazione\n",
    "    for i in range(1, len(coeffs)):\n",
    "        coeffs_thresholded.append(np.where(np.abs(coeffs[i]) < threshold, 0, coeffs[i]))\n",
    "\n",
    "    # Ricostruzione del segnale dai coefficienti modificati\n",
    "    reconstructed_signal = pywt.waverec(coeffs_thresholded, wavelet, mode='per')\n",
    "\n",
    "    # Taglia il segnale ricostruito per mantenerne la stessa lunghezza dell'input\n",
    "    return reconstructed_signal[:len(signal)]\n"
   ]
  },
  {
   "cell_type": "markdown",
   "metadata": {
    "id": "U_7jS5mAW7X8"
   },
   "source": [
    "## DB4 (Hard -> Threshold 10.5)"
   ]
  },
  {
   "cell_type": "code",
   "execution_count": 8,
   "metadata": {
    "id": "lQDSj1UhXQbo"
   },
   "outputs": [],
   "source": [
    "def db4_hard(signal, wavelet='db4', level=4, threshold=10.5):\n",
    "    \"\"\"\n",
    "    Applica la RDWT (Discrete Wavelet Transform) al segnale e lo ricostruisce,\n",
    "    rimuovendo i coefficienti di dettaglio sotto una certa soglia per enfatizzare\n",
    "    le caratteristiche principali del segnale.\n",
    "\n",
    "    Args:\n",
    "    - signal: il segnale da elaborare\n",
    "    - wavelet: tipo di wavelet da utilizzare (default 'db4')\n",
    "    - level: livello della decomposizione (default 4)\n",
    "    - threshold: soglia per i coefficienti di dettaglio (default 0.5)\n",
    "\n",
    "    Returns:\n",
    "    - Il segnale ricostruito dopo la manipolazione della RDWT\n",
    "    \"\"\"\n",
    "\n",
    "    # Decomposizione del segnale in coefficienti\n",
    "    coeffs = pywt.wavedec(signal, wavelet, mode='per', level=level)\n",
    "\n",
    "    # Modifica i coefficienti di dettaglio\n",
    "    # Si applica un threshold sui coefficienti di dettaglio per \"ridurre\" la componente di alta frequenza\n",
    "    coeffs_thresholded = [coeffs[0]]  # Mantieni il coefficiente di approssimazione\n",
    "    for i in range(1, len(coeffs)):\n",
    "        coeffs_thresholded.append(np.where(np.abs(coeffs[i]) < threshold, 0, coeffs[i]))\n",
    "\n",
    "    # Ricostruzione del segnale dai coefficienti modificati\n",
    "    reconstructed_signal = pywt.waverec(coeffs_thresholded, wavelet, mode='per')\n",
    "\n",
    "    # Taglia il segnale ricostruito per mantenerne la stessa lunghezza dell'input\n",
    "    return reconstructed_signal[:len(signal)]\n"
   ]
  },
  {
   "cell_type": "markdown",
   "metadata": {
    "id": "1NG7RQTKWZjc"
   },
   "source": [
    "## RDWT"
   ]
  },
  {
   "cell_type": "code",
   "execution_count": 9,
   "metadata": {
    "id": "1l6F2E0iVovM"
   },
   "outputs": [],
   "source": [
    "import numpy as np\n",
    "import scipy.signal as signal\n",
    "import pywt\n",
    "\n",
    "def rational_dilated_wavelet_transform(sig, wavelet='db4', levels=4, dilation_factors=None, threshold=5.5):\n",
    "    \"\"\"\n",
    "    Applica la Rational Dilated Wavelet Transform (RDWT) a un segnale EEG multidimensionale.\n",
    "\n",
    "    Args:\n",
    "    - sig: array numpy di forma (eventi, 1, canali, campioni)\n",
    "    - wavelet: tipo di wavelet da utilizzare (default 'db4')\n",
    "    - levels: numero di livelli di decomposizione (default 4)\n",
    "    - dilation_factors: lista di fattori di dilatazione razionale (default: [3/2, 5/3, 7/4, ...])\n",
    "    - threshold: soglia per i coefficienti di dettaglio (default 5.5)\n",
    "\n",
    "    Returns:\n",
    "    - Segnale ricostruito con la RDWT (stessa dimensione dell'input)\n",
    "    \"\"\"\n",
    "    eventi, _, canali, campioni = sig.shape\n",
    "    print(\"Lunghezza originale del segnale:\", sig.shape)\n",
    "\n",
    "    if dilation_factors is None:\n",
    "        dilation_factors = [3/2, 5/3, 7/4, 9/5]\n",
    "\n",
    "    coeffs_approx = sig.copy()  # Inizializza con il segnale originale\n",
    "    detail_coeffs = []\n",
    "\n",
    "    for i in range(levels):\n",
    "        factor = dilation_factors[i]\n",
    "        wavelet_filter = pywt.Wavelet(wavelet)\n",
    "        lo_d, hi_d = wavelet_filter.dec_lo, wavelet_filter.dec_hi\n",
    "\n",
    "        # Ridimensionamento dei filtri\n",
    "        lo_d = signal.resample(lo_d, int(len(lo_d) * factor))\n",
    "        hi_d = signal.resample(hi_d, int(len(hi_d) * factor))\n",
    "\n",
    "        print(f\"Livello {i+1}: coeffs_approx shape {coeffs_approx.shape}, lo_d shape {lo_d.shape}, hi_d shape {hi_d.shape}\")\n",
    "\n",
    "        approx = np.zeros_like(coeffs_approx)\n",
    "        detail = np.zeros_like(coeffs_approx)\n",
    "\n",
    "        # Applica la convoluzione per ogni canale EEG\n",
    "        for e in range(eventi):\n",
    "            for c in range(canali):\n",
    "                approx[e, 0, c, :] = np.convolve(coeffs_approx[e, 0, c, :], lo_d, mode='same')\n",
    "                detail[e, 0, c, :] = np.convolve(coeffs_approx[e, 0, c, :], hi_d, mode='same')\n",
    "\n",
    "                # Soglia sui coefficienti di dettaglio\n",
    "                detail[e, 0, c, np.abs(detail[e, 0, c, :]) < threshold] = 0\n",
    "\n",
    "        detail_coeffs.append(detail)\n",
    "        coeffs_approx = approx  # Passa l'approssimazione al livello successivo\n",
    "\n",
    "    # Ricostruzione del segnale\n",
    "    reconstructed = coeffs_approx.copy()\n",
    "    for i in range(levels-1, -1, -1):\n",
    "        reconstructed += detail_coeffs[i]\n",
    "\n",
    "    print(\"Lunghezza del segnale ricostruito:\", reconstructed.shape)\n",
    "    return reconstructed"
   ]
  },
  {
   "cell_type": "code",
   "execution_count": 10,
   "metadata": {
    "id": "8AAXepUzYZOv"
   },
   "outputs": [],
   "source": [
    "def apply_preprocessing (signals_data, preprocessing):\n",
    "  if preprocessing==\"none\":\n",
    "    return signals_data\n",
    "  elif preprocessing==\"db4_soft\":\n",
    "    return db4_soft(signals_data)\n",
    "  elif preprocessing==\"db4_hard\":\n",
    "    return db4_hard(signals_data)\n",
    "  elif preprocessing==\"rdwt\":\n",
    "    return rational_dilated_wavelet_transform(signals_data)\n"
   ]
  },
  {
   "cell_type": "markdown",
   "metadata": {
    "id": "LcIk3eTxUeqE"
   },
   "source": [
    "# Model training function"
   ]
  },
  {
   "cell_type": "code",
   "execution_count": 11,
   "metadata": {},
   "outputs": [
    {
     "name": "stdout",
     "output_type": "stream",
     "text": [
      "Chiavi principali del file .mat: ['ch1', 'ch10', 'ch100', 'ch101', 'ch102', 'ch103', 'ch104', 'ch105', 'ch106', 'ch107', 'ch108', 'ch109', 'ch11', 'ch110', 'ch111', 'ch112', 'ch113', 'ch114', 'ch115', 'ch116', 'ch117', 'ch118', 'ch119', 'ch12', 'ch120', 'ch121', 'ch122', 'ch123', 'ch124', 'ch125', 'ch126', 'ch127', 'ch128', 'ch129', 'ch13', 'ch130', 'ch131', 'ch132', 'ch133', 'ch14', 'ch15', 'ch16', 'ch17', 'ch18', 'ch19', 'ch2', 'ch20', 'ch21', 'ch22', 'ch23', 'ch24', 'ch25', 'ch26', 'ch27', 'ch28', 'ch29', 'ch3', 'ch30', 'ch31', 'ch32', 'ch33', 'ch34', 'ch35', 'ch36', 'ch37', 'ch38', 'ch39', 'ch4', 'ch40', 'ch41', 'ch42', 'ch43', 'ch44', 'ch45', 'ch46', 'ch47', 'ch48', 'ch49', 'ch5', 'ch50', 'ch51', 'ch52', 'ch53', 'ch54', 'ch55', 'ch56', 'ch57', 'ch58', 'ch59', 'ch6', 'ch60', 'ch61', 'ch62', 'ch63', 'ch64', 'ch65', 'ch66', 'ch67', 'ch68', 'ch69', 'ch7', 'ch70', 'ch71', 'ch72', 'ch73', 'ch74', 'ch75', 'ch76', 'ch77', 'ch78', 'ch79', 'ch8', 'ch80', 'ch81', 'ch82', 'ch83', 'ch84', 'ch85', 'ch86', 'ch87', 'ch88', 'ch89', 'ch9', 'ch90', 'ch91', 'ch92', 'ch93', 'ch94', 'ch95', 'ch96', 'ch97', 'ch98', 'ch99', 'dat', 'mnt', 'mrk', 'nfo', '~obj_pointed_by_100280', '~obj_pointed_by_100592', '~obj_pointed_by_100904', '~obj_pointed_by_101216', '~obj_pointed_by_101856', '~obj_pointed_by_102168', '~obj_pointed_by_102480', '~obj_pointed_by_102792', '~obj_pointed_by_10296', '~obj_pointed_by_103432', '~obj_pointed_by_103736', '~obj_pointed_by_104040', '~obj_pointed_by_104344', '~obj_pointed_by_104976', '~obj_pointed_by_105288', '~obj_pointed_by_105600', '~obj_pointed_by_105912', '~obj_pointed_by_10600', '~obj_pointed_by_106544', '~obj_pointed_by_106848', '~obj_pointed_by_107152', '~obj_pointed_by_107456', '~obj_pointed_by_107768', '~obj_pointed_by_108952', '~obj_pointed_by_10904', '~obj_pointed_by_109264', '~obj_pointed_by_109568', '~obj_pointed_by_109872', '~obj_pointed_by_110176', '~obj_pointed_by_110808', '~obj_pointed_by_111120', '~obj_pointed_by_111432', '~obj_pointed_by_111744', '~obj_pointed_by_11216', '~obj_pointed_by_112384', '~obj_pointed_by_112696', '~obj_pointed_by_113008', '~obj_pointed_by_113320', '~obj_pointed_by_114504', '~obj_pointed_by_114816', '~obj_pointed_by_115128', '~obj_pointed_by_11528', '~obj_pointed_by_115440', '~obj_pointed_by_116080', '~obj_pointed_by_116392', '~obj_pointed_by_116704', '~obj_pointed_by_117016', '~obj_pointed_by_117656', '~obj_pointed_by_117960', '~obj_pointed_by_118272', '~obj_pointed_by_118584', '~obj_pointed_by_119224', '~obj_pointed_by_119536', '~obj_pointed_by_119848', '~obj_pointed_by_120160', '~obj_pointed_by_120800', '~obj_pointed_by_121112', '~obj_pointed_by_121424', '~obj_pointed_by_12168', '~obj_pointed_by_121736', '~obj_pointed_by_122048', '~obj_pointed_by_122360', '~obj_pointed_by_122672', '~obj_pointed_by_122984', '~obj_pointed_by_123624', '~obj_pointed_by_12480', '~obj_pointed_by_12784', '~obj_pointed_by_13088', '~obj_pointed_by_135528', '~obj_pointed_by_135840', '~obj_pointed_by_136152', '~obj_pointed_by_136464', '~obj_pointed_by_137104', '~obj_pointed_by_13720', '~obj_pointed_by_137416', '~obj_pointed_by_138056', '~obj_pointed_by_138368', '~obj_pointed_by_138680', '~obj_pointed_by_138992', '~obj_pointed_by_139632', '~obj_pointed_by_139944', '~obj_pointed_by_14024', '~obj_pointed_by_140256', '~obj_pointed_by_140568', '~obj_pointed_by_140880', '~obj_pointed_by_141520', '~obj_pointed_by_141832', '~obj_pointed_by_142144', '~obj_pointed_by_142456', '~obj_pointed_by_143096', '~obj_pointed_by_14328', '~obj_pointed_by_143408', '~obj_pointed_by_143720', '~obj_pointed_by_144032', '~obj_pointed_by_144672', '~obj_pointed_by_144984', '~obj_pointed_by_14632', '~obj_pointed_by_14944', '~obj_pointed_by_15256', '~obj_pointed_by_15736', '~obj_pointed_by_16040', '~obj_pointed_by_16672', '~obj_pointed_by_16984', '~obj_pointed_by_17296', '~obj_pointed_by_17608', '~obj_pointed_by_18248', '~obj_pointed_by_18560', '~obj_pointed_by_18872', '~obj_pointed_by_19184', '~obj_pointed_by_19824', '~obj_pointed_by_20136', '~obj_pointed_by_20440', '~obj_pointed_by_20744', '~obj_pointed_by_21376', '~obj_pointed_by_21680', '~obj_pointed_by_21992', '~obj_pointed_by_22304', '~obj_pointed_by_22944', '~obj_pointed_by_23248', '~obj_pointed_by_23552', '~obj_pointed_by_23856', '~obj_pointed_by_24488', '~obj_pointed_by_24800', '~obj_pointed_by_25112', '~obj_pointed_by_25424', '~obj_pointed_by_26056', '~obj_pointed_by_26360', '~obj_pointed_by_26992', '~obj_pointed_by_27304', '~obj_pointed_by_27616', '~obj_pointed_by_27928', '~obj_pointed_by_28240', '~obj_pointed_by_28880', '~obj_pointed_by_29480', '~obj_pointed_by_29792', '~obj_pointed_by_30432', '~obj_pointed_by_30744', '~obj_pointed_by_31056', '~obj_pointed_by_31368', '~obj_pointed_by_3160', '~obj_pointed_by_32008', '~obj_pointed_by_32320', '~obj_pointed_by_32632', '~obj_pointed_by_32944', '~obj_pointed_by_33584', '~obj_pointed_by_33896', '~obj_pointed_by_34208', '~obj_pointed_by_34520', '~obj_pointed_by_3472', '~obj_pointed_by_35152', '~obj_pointed_by_35464', '~obj_pointed_by_35776', '~obj_pointed_by_36088', '~obj_pointed_by_36400', '~obj_pointed_by_37040', '~obj_pointed_by_37352', '~obj_pointed_by_37664', '~obj_pointed_by_3784', '~obj_pointed_by_37976', '~obj_pointed_by_38288', '~obj_pointed_by_38928', '~obj_pointed_by_39240', '~obj_pointed_by_39552', '~obj_pointed_by_39864', '~obj_pointed_by_40504', '~obj_pointed_by_40816', '~obj_pointed_by_41128', '~obj_pointed_by_41440', '~obj_pointed_by_42080', '~obj_pointed_by_42392', '~obj_pointed_by_42704', '~obj_pointed_by_4272', '~obj_pointed_by_43016', '~obj_pointed_by_43656', '~obj_pointed_by_43960', '~obj_pointed_by_44264', '~obj_pointed_by_44568', '~obj_pointed_by_45208', '~obj_pointed_by_45520', '~obj_pointed_by_4576', '~obj_pointed_by_45832', '~obj_pointed_by_46144', '~obj_pointed_by_46784', '~obj_pointed_by_47096', '~obj_pointed_by_47408', '~obj_pointed_by_47720', '~obj_pointed_by_48360', '~obj_pointed_by_48672', '~obj_pointed_by_4880', '~obj_pointed_by_48984', '~obj_pointed_by_49296', '~obj_pointed_by_49608', '~obj_pointed_by_49920', '~obj_pointed_by_50232', '~obj_pointed_by_50544', '~obj_pointed_by_50856', '~obj_pointed_by_51168', '~obj_pointed_by_51808', '~obj_pointed_by_5184', '~obj_pointed_by_52120', '~obj_pointed_by_52432', '~obj_pointed_by_52736', '~obj_pointed_by_53040', '~obj_pointed_by_53344', '~obj_pointed_by_53984', '~obj_pointed_by_54296', '~obj_pointed_by_54608', '~obj_pointed_by_54920', '~obj_pointed_by_55232', '~obj_pointed_by_5536', '~obj_pointed_by_55544', '~obj_pointed_by_55864', '~obj_pointed_by_56176', '~obj_pointed_by_56488', '~obj_pointed_by_56800', '~obj_pointed_by_57112', '~obj_pointed_by_57752', '~obj_pointed_by_58064', '~obj_pointed_by_58376', '~obj_pointed_by_58688', '~obj_pointed_by_59328', '~obj_pointed_by_59640', '~obj_pointed_by_6168', '~obj_pointed_by_61832', '~obj_pointed_by_62152', '~obj_pointed_by_62800', '~obj_pointed_by_63112', '~obj_pointed_by_6472', '~obj_pointed_by_6784', '~obj_pointed_by_68568', '~obj_pointed_by_69216', '~obj_pointed_by_69536', '~obj_pointed_by_69848', '~obj_pointed_by_7096', '~obj_pointed_by_7736', '~obj_pointed_by_8048', '~obj_pointed_by_8352', '~obj_pointed_by_86432', '~obj_pointed_by_8656', '~obj_pointed_by_86744', '~obj_pointed_by_87056', '~obj_pointed_by_87368', '~obj_pointed_by_87672', '~obj_pointed_by_88304', '~obj_pointed_by_88608', '~obj_pointed_by_88912', '~obj_pointed_by_89216', '~obj_pointed_by_8968', '~obj_pointed_by_90944', '~obj_pointed_by_91256', '~obj_pointed_by_91568', '~obj_pointed_by_91880', '~obj_pointed_by_92512', '~obj_pointed_by_92816', '~obj_pointed_by_93120', '~obj_pointed_by_93424', '~obj_pointed_by_94056', '~obj_pointed_by_94360', '~obj_pointed_by_94664', '~obj_pointed_by_94976', '~obj_pointed_by_95616', '~obj_pointed_by_95928', '~obj_pointed_by_96240', '~obj_pointed_by_96544', '~obj_pointed_by_9688', '~obj_pointed_by_97176', '~obj_pointed_by_97480', '~obj_pointed_by_97784', '~obj_pointed_by_98088', '~obj_pointed_by_98728', '~obj_pointed_by_99032', '~obj_pointed_by_99336', '~obj_pointed_by_99640', '~obj_pointed_by_9992']\n",
      "Shape di ch1: (1, 1225545)\n",
      "Dati di ch1 (primo trial): [-43.988 -43.78  -42.913 ...   1.764   3.395   3.633]\n"
     ]
    }
   ],
   "source": [
    "import h5py\n",
    "\n",
    "# Apre il file .mat in modalità lettura\n",
    "with h5py.File(\"dataset/train/1.mat\", 'r') as f:\n",
    "    # Stampa le chiavi principali nel file .mat\n",
    "    print(\"Chiavi principali del file .mat:\", list(f.keys()))\n",
    "    \n",
    "    # Esamina i dati per una chiave specifica ('ch1')\n",
    "    if 'ch1' in f:\n",
    "        X_data = f['ch1']\n",
    "        print(\"Shape di ch1:\", X_data.shape)\n",
    "        print(\"Dati di ch1 (primo trial):\", X_data[0])\n",
    "\n",
    "    \n"
   ]
  },
  {
   "cell_type": "code",
   "execution_count": 12,
   "metadata": {
    "id": "lUYrFX-SUdQP"
   },
   "outputs": [],
   "source": [
    "#%% Training\n",
    "from preprocess import get_data\n",
    "\n",
    "def train(dataset_conf, train_conf, results_path):\n",
    "\n",
    "    # remove the 'result' folder before training\n",
    "    if os.path.exists(results_path):\n",
    "        # Remove the folder and its contents\n",
    "        shutil.rmtree(results_path)\n",
    "        os.makedirs(results_path)\n",
    "\n",
    "    # Get the current 'IN' time to calculate the overall training time\n",
    "    in_exp = time.time()\n",
    "    # Create a file to store the path of the best model among several runs\n",
    "    best_models = open(results_path + \"/best models.txt\", \"w\")\n",
    "    # Create a file to store performance during training\n",
    "    log_write = open(results_path + \"/log.txt\", \"w\")\n",
    "\n",
    "    # Get dataset parameters\n",
    "    dataset = dataset_conf.get('name')\n",
    "    print(\"Dataset: \", dataset)\n",
    "    n_sub = dataset_conf.get('n_sub')\n",
    "    print(\"Number of subjects: \", n_sub)\n",
    "    data_path = dataset_conf.get('data_path')\n",
    "    print(\"Data path: \", data_path)\n",
    "    isStandard = dataset_conf.get('isStandard')\n",
    "    print(\"Standardization: \", isStandard)\n",
    "    LOSO = dataset_conf.get('LOSO')\n",
    "    print(\"Leave-one-subject-out: \", LOSO)\n",
    "    # Get training hyperparamters\n",
    "    batch_size = train_conf.get('batch_size')\n",
    "    epochs = train_conf.get('epochs')\n",
    "    signal_preprocessing = dataset_conf.get('signal_preprocessing')\n",
    "    patience = train_conf.get('patience')\n",
    "    lr = train_conf.get('lr')\n",
    "    LearnCurves = train_conf.get('LearnCurves') # Plot Learning Curves?\n",
    "    n_train = train_conf.get('n_train')\n",
    "    model_name = train_conf.get('model')\n",
    "    from_logits = train_conf.get('from_logits')\n",
    "\n",
    "    # Initialize variables\n",
    "    acc = np.zeros((n_sub, n_train))\n",
    "    kappa = np.zeros((n_sub, n_train))\n",
    "\n",
    "    # Iteration over subjects\n",
    "    # for sub in range(n_sub-1, n_sub): # (num_sub): for all subjects, (i-1,i): for the ith subject.\n",
    "    for sub in range(n_sub): # (num_sub): for all subjects, (i-1,i): for the ith subject.\n",
    "\n",
    "        print('\\nTraining on subject ', sub+1)\n",
    "        log_write.write( '\\nTraining on subject '+ str(sub+1) +'\\n')\n",
    "        # Initiating variables to save the best subject accuracy among multiple runs.\n",
    "        BestSubjAcc = 0\n",
    "        bestTrainingHistory = []\n",
    "\n",
    "        # Get training and validation data\n",
    "        print(\"Sto per chiamare get_data\")\n",
    "        X_train, _, y_train_onehot, _, _, _ = get_data(\n",
    "            data_path, sub, dataset, LOSO = LOSO, isStandard = isStandard)\n",
    "\n",
    "        print(\"Dopo get_data\")\n",
    "        print(\"X_train shape is:\"+str(X_train.shape))\n",
    "        # Divide the training data into training and validation\n",
    "        X_train, X_val, y_train_onehot, y_val_onehot = train_test_split(X_train, y_train_onehot, test_size=0.2, random_state=42)\n",
    "\n",
    "\n",
    "        print(\"\\n\\nBefore preprocessing X_train shape is:\"+str(X_train.shape))\n",
    "        print(\"Before preprocessing X_val shape is:\"+str(X_val.shape))\n",
    "\n",
    "        X_train = apply_preprocessing(X_train, preprocessing=signal_preprocessing)\n",
    "        X_val = apply_preprocessing(X_val, preprocessing=signal_preprocessing)\n",
    "        print(\"\\n\\nAfter preprocessing X_train shape is:\"+str(X_train.shape))\n",
    "        print(\"After preprocessing X_val shape is:\"+str(X_val.shape))\n",
    "\n",
    "\n",
    "        # Iteration over multiple runs\n",
    "        for train in range(n_train): # How many repetitions of training for subject i.\n",
    "            # Set the random seed for TensorFlow and NumPy random number generator.\n",
    "            # The purpose of setting a seed is to ensure reproducibility in random operations.\n",
    "            tf.random.set_seed(train+1)\n",
    "            np.random.seed(train+1)\n",
    "\n",
    "            # Get the current 'IN' time to calculate the 'run' training time\n",
    "            in_run = time.time()\n",
    "\n",
    "            # Create folders and files to save trained models for all runs\n",
    "            filepath = results_path + '/saved models/run-{}'.format(train+1)\n",
    "            if not os.path.exists(filepath):\n",
    "                os.makedirs(filepath)\n",
    "            filepath = filepath + '/subject-{}.weights.h5'.format(sub+1)\n",
    "\n",
    "            # Create the model\n",
    "            model = getModel(model_name, dataset_conf, from_logits)\n",
    "            # Compile and train the model\n",
    "            model.compile(loss=CategoricalCrossentropy(from_logits=from_logits), optimizer=Adam(learning_rate=lr), metrics=['accuracy'])\n",
    "\n",
    "            # model.summary()\n",
    "            # plot_model(model, to_file='plot_model.png', show_shapes=True, show_layer_names=True)\n",
    "\n",
    "            callbacks = [\n",
    "                ModelCheckpoint(filepath, monitor='val_loss', verbose=0,\n",
    "                                save_best_only=True, save_weights_only=True, mode='min'),\n",
    "                ReduceLROnPlateau(monitor=\"val_loss\", factor=0.90, patience=20, verbose=0, min_lr=0.0001),\n",
    "                # EarlyStopping(monitor='val_loss', verbose=1, mode='min', patience=patience)\n",
    "            ]\n",
    "            history = model.fit(X_train, y_train_onehot, validation_data=(X_val, y_val_onehot),\n",
    "                                epochs=epochs, batch_size=batch_size, callbacks=callbacks, verbose=0)\n",
    "\n",
    "            # Evaluate the performance of the trained model based on the validation data\n",
    "            # Here we load the Trained weights from the file saved in the hard\n",
    "            # disk, which should be the same as the weights of the current model.\n",
    "            model.load_weights(filepath)\n",
    "            y_pred = model.predict(X_val)\n",
    "\n",
    "            if from_logits:\n",
    "                y_pred = tf.nn.softmax(y_pred).numpy().argmax(axis=-1)\n",
    "            else:\n",
    "                y_pred = y_pred.argmax(axis=-1)\n",
    "\n",
    "            labels = y_val_onehot.argmax(axis=-1)\n",
    "            acc[sub, train]  = accuracy_score(labels, y_pred)\n",
    "            kappa[sub, train] = cohen_kappa_score(labels, y_pred)\n",
    "\n",
    "            # Get the current 'OUT' time to calculate the 'run' training time\n",
    "            out_run = time.time()\n",
    "            # Print & write performance measures for each run\n",
    "            info = 'Subject: {}   seed {}   time: {:.1f} m   '.format(sub+1, train+1, ((out_run-in_run)/60))\n",
    "            info = info + 'valid_acc: {:.4f}   valid_loss: {:.3f}'.format(acc[sub, train], min(history.history['val_loss']))\n",
    "            print(info)\n",
    "            log_write.write(info +'\\n')\n",
    "            # If current training run is better than previous runs, save the history.\n",
    "            if(BestSubjAcc < acc[sub, train]):\n",
    "                 BestSubjAcc = acc[sub, train]\n",
    "                 bestTrainingHistory = history\n",
    "\n",
    "        # Store the path of the best model among several runs\n",
    "        best_run = np.argmax(acc[sub,:])\n",
    "        filepath = '/saved models/run-{}/subject-{}.h5'.format(best_run+1, sub+1)+'\\n'\n",
    "        best_models.write(filepath)\n",
    "\n",
    "        # Plot Learning curves\n",
    "        if (LearnCurves == True):\n",
    "            print('Plot Learning Curves ....... ')\n",
    "            draw_learning_curves(bestTrainingHistory, sub+1)\n",
    "\n",
    "    # Get the current 'OUT' time to calculate the overall training time\n",
    "    out_exp = time.time()\n",
    "\n",
    "    # Print & write the validation performance using all seeds\n",
    "    head1 = head2 = '         '\n",
    "    for sub in range(n_sub):\n",
    "        head1 = head1 + 'sub_{}   '.format(sub+1)\n",
    "        head2 = head2 + '-----   '\n",
    "    head1 = head1 + '  average'\n",
    "    head2 = head2 + '  -------'\n",
    "    info = '\\n---------------------------------\\nValidation performance (acc %):'\n",
    "    info = info + '\\n---------------------------------\\n' + head1 +'\\n'+ head2\n",
    "    for run in range(n_train):\n",
    "        info = info + '\\nSeed {}:  '.format(run+1)\n",
    "        for sub in range(n_sub):\n",
    "            info = info + '{:.2f}   '.format(acc[sub, run]*100)\n",
    "        info = info + '  {:.2f}   '.format(np.average(acc[:, run])*100)\n",
    "    info = info + '\\n---------------------------------\\nAverage acc - all seeds: '\n",
    "    info = info + '{:.2f} %\\n\\nTrain Time  - all seeds: {:.1f}'.format(np.average(acc)*100, (out_exp-in_exp)/(60))\n",
    "    info = info + ' min\\n---------------------------------\\n'\n",
    "    print(info)\n",
    "    log_write.write(info+'\\n')\n",
    "\n",
    "    # Close open files\n",
    "    best_models.close()\n",
    "    log_write.close()"
   ]
  },
  {
   "cell_type": "markdown",
   "metadata": {
    "id": "94bvHJeiVHbe"
   },
   "source": [
    "# Evaluation function"
   ]
  },
  {
   "cell_type": "code",
   "execution_count": 13,
   "metadata": {
    "id": "doqjxvQFVGeB"
   },
   "outputs": [],
   "source": [
    "#%% Evaluation\n",
    "def test(model, dataset_conf, results_path, allRuns = True):\n",
    "    # Open the  \"Log\" file to write the evaluation results\n",
    "    log_write = open(results_path + \"/log.txt\", \"a\")\n",
    "\n",
    "    # Get dataset paramters\n",
    "    dataset = dataset_conf.get('name')\n",
    "    signal_preprocessing = dataset_conf.get('signal_preprocessing')\n",
    "    n_classes = dataset_conf.get('n_classes')\n",
    "    n_sub = dataset_conf.get('n_sub')\n",
    "    data_path = dataset_conf.get('data_path')\n",
    "    isStandard = dataset_conf.get('isStandard')\n",
    "    LOSO = dataset_conf.get('LOSO')\n",
    "    classes_labels = dataset_conf.get('cl_labels')\n",
    "    #Ripetuto\n",
    "    #signal_preprocessing = dataset_conf.get('signal_preprocessing')\n",
    "\n",
    "    # Test the performance based on several runs (seeds)\n",
    "    runs = os.listdir(results_path+\"/saved models\")\n",
    "    # Initialize variables\n",
    "    acc = np.zeros((n_sub, len(runs)))\n",
    "    kappa = np.zeros((n_sub, len(runs)))\n",
    "    cf_matrix = np.zeros([n_sub, len(runs), n_classes, n_classes])\n",
    "\n",
    "    # Iteration over subjects\n",
    "    # for sub in range(n_sub-1, n_sub): # (num_sub): for all subjects, (i-1,i): for the ith subject.\n",
    "    inference_time = 0 #  inference_time: classification time for one trial\n",
    "    for sub in range(n_sub): # (num_sub): for all subjects, (i-1,i): for the ith subject.\n",
    "        # Load data\n",
    "        _, _, _, X_test, _, y_test_onehot = get_data(data_path, sub, dataset, LOSO = LOSO, isStandard = isStandard)\n",
    "\n",
    "        X_test = apply_preprocessing(X_test, preprocessing=signal_preprocessing)\n",
    "\n",
    "        # Iteration over runs (seeds)\n",
    "        for seed in range(len(runs)):\n",
    "            # Load the model of the seed.\n",
    "            model.load_weights('{}/saved models/{}/subject-{}.h5'.format(results_path, runs[seed], sub+1))\n",
    "\n",
    "            inference_time = time.time()\n",
    "            # Predict MI task\n",
    "            y_pred = model.predict(X_test).argmax(axis=-1)\n",
    "            inference_time = (time.time() - inference_time)/X_test.shape[0]\n",
    "            # Calculate accuracy and K-score\n",
    "            labels = y_test_onehot.argmax(axis=-1)\n",
    "            acc[sub, seed]  = accuracy_score(labels, y_pred)\n",
    "            kappa[sub, seed] = cohen_kappa_score(labels, y_pred)\n",
    "            # Calculate and draw confusion matrix\n",
    "            cf_matrix[sub, seed, :, :] = confusion_matrix(labels, y_pred, normalize='true')\n",
    "            # draw_confusion_matrix(cf_matrix[sub, seed, :, :], str(sub+1), results_path, classes_labels)\n",
    "\n",
    "    # Print & write the average performance measures for all subjects\n",
    "    head1 = head2 = '                  '\n",
    "    for sub in range(n_sub):\n",
    "        head1 = head1 + 'sub_{}   '.format(sub+1)\n",
    "        head2 = head2 + '-----   '\n",
    "    head1 = head1 + '  average'\n",
    "    head2 = head2 + '  -------'\n",
    "    info = '\\n' + head1 +'\\n'+ head2\n",
    "    info = '\\n---------------------------------\\nTest performance (acc & k-score):\\n'\n",
    "    info = info + '---------------------------------\\n' + head1 +'\\n'+ head2\n",
    "    for run in range(len(runs)):\n",
    "        info = info + '\\nSeed {}: '.format(run+1)\n",
    "        info_acc = '(acc %)   '\n",
    "        info_k = '        (k-sco)   '\n",
    "        for sub in range(n_sub):\n",
    "            info_acc = info_acc + '{:.2f}   '.format(acc[sub, run]*100)\n",
    "            info_k = info_k + '{:.3f}   '.format(kappa[sub, run])\n",
    "        info_acc = info_acc + '  {:.2f}   '.format(np.average(acc[:, run])*100)\n",
    "        info_k = info_k + '  {:.3f}   '.format(np.average(kappa[:, run]))\n",
    "        info = info + info_acc + '\\n' + info_k\n",
    "    info = info + '\\n----------------------------------\\nAverage - all seeds (acc %): '\n",
    "    info = info + '{:.2f}\\n                    (k-sco): '.format(np.average(acc)*100)\n",
    "    info = info + '{:.3f}\\n\\nInference time: {:.2f}'.format(np.average(kappa), inference_time * 1000)\n",
    "    info = info + ' ms per trial\\n----------------------------------\\n'\n",
    "    print(info)\n",
    "    log_write.write(info+'\\n')\n",
    "\n",
    "    # Draw a performance bar chart for all subjects\n",
    "    draw_performance_barChart(n_sub, acc.mean(1), 'Accuracy')\n",
    "    draw_performance_barChart(n_sub, kappa.mean(1), 'k-score')\n",
    "    # Draw confusion matrix for all subjects (average)\n",
    "    draw_confusion_matrix(cf_matrix.mean((0,1)), 'All', results_path, classes_labels)\n",
    "    # Close opened file\n",
    "    log_write.close()"
   ]
  },
  {
   "cell_type": "markdown",
   "metadata": {
    "id": "weCl_i-ZVdlL"
   },
   "source": [
    "# Model selection and setup"
   ]
  },
  {
   "cell_type": "code",
   "execution_count": 14,
   "metadata": {
    "id": "5gAM65lQSTH1"
   },
   "outputs": [],
   "source": [
    "#%%\n",
    "def getModel(model_name, dataset_conf, from_logits = False):\n",
    "\n",
    "    n_classes = dataset_conf.get('n_classes')\n",
    "    n_channels = dataset_conf.get('n_channels')\n",
    "    in_samples = dataset_conf.get('in_samples')\n",
    "\n",
    "    # Select the model\n",
    "    if(model_name == 'RockNet'):\n",
    "        # Train using the proposed ATCNet model: https://ieeexplore.ieee.org/document/9852687\n",
    "        model = models.RockNet_(\n",
    "            # Dataset parameters\n",
    "            n_classes = n_classes,\n",
    "            in_chans = n_channels,\n",
    "            in_samples = in_samples,\n",
    "            # Sliding window (SW) parameter\n",
    "            n_windows = 5,\n",
    "            # Attention (AT) block parameter\n",
    "            attention = 'mha', # Options: None, 'mha','mhla', 'cbam', 'se'\n",
    "            # Convolutional (CV) block parameters\n",
    "            eegn_F1 = 16,\n",
    "            eegn_D = 2,\n",
    "            eegn_kernelSize = 64,\n",
    "            eegn_poolSize = 7,\n",
    "            eegn_dropout = 0.5,\n",
    "            # Temporal convolutional (TC) block parameters\n",
    "            tcn_depth = 2,\n",
    "            tcn_kernelSize = 4,\n",
    "            tcn_filters = 64,\n",
    "            tcn_dropout = 0.3,\n",
    "            tcn_activation='elu',\n",
    "            )\n",
    "    elif(model_name == 'ATCNet'):\n",
    "        # Train using the proposed ATCNet model: https://ieeexplore.ieee.org/document/9852687\n",
    "        model = models.ATCNet_(\n",
    "            # Dataset parameters\n",
    "            n_classes = n_classes,\n",
    "            in_chans = n_channels,\n",
    "            in_samples = in_samples,\n",
    "            # Sliding window (SW) parameter\n",
    "            n_windows = 5,\n",
    "            # Attention (AT) block parameter\n",
    "            attention = 'mha', # Options: None, 'mha','mhla', 'cbam', 'se'\n",
    "            # Convolutional (CV) block parameters\n",
    "            eegn_F1 = 16,\n",
    "            eegn_D = 2,\n",
    "            eegn_kernelSize = 64,\n",
    "            eegn_poolSize = 7,\n",
    "            eegn_dropout = 0.3,\n",
    "            # Temporal convolutional (TC) block parameters\n",
    "            tcn_depth = 2,\n",
    "            tcn_kernelSize = 4,\n",
    "            tcn_filters = 32,\n",
    "            tcn_dropout = 0.3,\n",
    "            tcn_activation='elu',\n",
    "            )\n",
    "    elif(model_name == 'TCNet_Fusion'):\n",
    "        # Train using TCNet_Fusion: https://doi.org/10.1016/j.bspc.2021.102826\n",
    "        model = models.TCNet_Fusion(n_classes = n_classes, Chans=n_channels, Samples=in_samples)\n",
    "    elif(model_name == 'EEGTCNet'):\n",
    "        # Train using EEGTCNet: https://arxiv.org/abs/2006.00622\n",
    "        model = models.EEGTCNet(n_classes = n_classes, Chans=n_channels, Samples=in_samples)\n",
    "    elif(model_name == 'EEGNet'):\n",
    "        # Train using EEGNet: https://arxiv.org/abs/1611.08024\n",
    "        model = models.EEGNet_classifier(n_classes = n_classes, Chans=n_channels, Samples=in_samples)\n",
    "    elif(model_name == 'EEGNeX'):\n",
    "        # Train using EEGNeX: https://arxiv.org/abs/2207.12369\n",
    "        model = models.EEGNeX_8_32(n_timesteps = in_samples , n_features = n_channels, n_outputs = n_classes)\n",
    "    elif(model_name == 'DeepConvNet'):\n",
    "        # Train using DeepConvNet: https://doi.org/10.1002/hbm.23730\n",
    "        model = models.DeepConvNet(nb_classes = n_classes , Chans = n_channels, Samples = in_samples)\n",
    "    elif(model_name == 'ShallowConvNet'):\n",
    "        # Train using ShallowConvNet: https://doi.org/10.1002/hbm.23730\n",
    "        model = models.ShallowConvNet(nb_classes = n_classes , Chans = n_channels, Samples = in_samples)\n",
    "    elif(model_name == 'MBEEG_SENet'):\n",
    "        # Train using MBEEG_SENet: https://www.mdpi.com/2075-4418/12/4/995\n",
    "        model = models.MBEEG_SENet(nb_classes = n_classes , Chans = n_channels, Samples = in_samples)\n",
    "\n",
    "    else:\n",
    "        raise Exception(\"'{}' model is not supported yet!\".format(model_name))\n",
    "\n",
    "    return model"
   ]
  },
  {
   "cell_type": "markdown",
   "metadata": {
    "id": "PE_qndEAVZ-_"
   },
   "source": [
    "# Run the simulation"
   ]
  },
  {
   "cell_type": "markdown",
   "metadata": {
    "id": "CkiYgl7FDPqN"
   },
   "source": [
    "## Define the run function."
   ]
  },
  {
   "cell_type": "code",
   "execution_count": 15,
   "metadata": {
    "id": "nWF0BbQzVbdN"
   },
   "outputs": [],
   "source": [
    "#%%\n",
    "def run(signal_preprocessing):\n",
    "    # Define dataset parameters\n",
    "    #dataset = 'BCI2a' # Options: 'BCI2a','HGD', 'CS2R'\n",
    "    dataset = 'HGD'\n",
    "\n",
    "    if dataset == 'BCI2a':\n",
    "        in_samples = 1125\n",
    "        n_channels = 22\n",
    "        n_sub = 9\n",
    "        n_classes = 4\n",
    "        classes_labels = ['Left hand', 'Right hand','Foot','Tongue']\n",
    "        data_path = 'dataset/' #os.path.expanduser('~') + '/BCI Competition IV/BCI Competition IV-2a/BCI Competition IV 2a mat/'\n",
    "    elif dataset == 'HGD':\n",
    "        #print(\"Dataset scelto:\",dataset)\n",
    "        in_samples = 1125\n",
    "        n_channels = 44\n",
    "        n_sub = 14\n",
    "        n_classes = 4\n",
    "        classes_labels = ['Right Hand', 'Left Hand','Rest','Feet']\n",
    "        data_path = 'dataset/' #os.path.expanduser('~') + '/mne_data/MNE-schirrmeister2017-data/robintibor/high-gamma-dataset/raw/master/data/'\n",
    "        #print(\"Data path:\",data_path)\n",
    "    elif dataset == 'CS2R':\n",
    "        in_samples = 1125\n",
    "        # in_samples = 576\n",
    "        n_channels = 32\n",
    "        n_sub = 18\n",
    "        n_classes = 3\n",
    "        # classes_labels = ['Fingers', 'Wrist','Elbow','Rest']\n",
    "        classes_labels = ['Fingers', 'Wrist','Elbow']\n",
    "        # classes_labels = ['Fingers', 'Elbow']\n",
    "        data_path = os.path.expanduser('~') + '/CS2R MI EEG dataset/all/EDF - Cleaned - phase one (remove extra runs)/two sessions/'\n",
    "    else:\n",
    "        raise Exception(\"'{}' dataset is not supported yet!\".format(dataset))\n",
    "\n",
    "    # Create a folder to store the results of the experiment\n",
    "    results_path = os.getcwd() + \"/results\"\n",
    "    if not  os.path.exists(results_path):\n",
    "      os.makedirs(results_path)   # Create a new directory if it does not exist\n",
    "\n",
    "    # Set dataset paramters\n",
    "    dataset_conf = { 'name': dataset, 'n_classes': n_classes, 'cl_labels': classes_labels,\n",
    "                    'n_sub': n_sub, 'n_channels': n_channels, 'in_samples': in_samples,\n",
    "                    'data_path': data_path, 'isStandard': True, 'LOSO': False,\n",
    "                     'signal_preprocessing':signal_preprocessing}\n",
    "\n",
    "    # Set training hyperparamters\n",
    "    train_conf = { 'batch_size': 64, 'epochs': 500, 'patience': 100, 'lr': 0.001,'n_train': 1,\n",
    "                  'LearnCurves': True, 'from_logits': False, 'model':'RockNet'}\n",
    "\n",
    "    # Train the model\n",
    "    print(\"Training the model...\")\n",
    "    train(dataset_conf, train_conf, results_path)\n",
    "    print(\"Training completed!\")\n",
    "\n",
    "    # Evaluate the model based on the weights saved in the '/results' folder\n",
    "    model = getModel(train_conf.get('model'), dataset_conf)\n",
    "    test(model, dataset_conf, results_path)\n"
   ]
  },
  {
   "cell_type": "markdown",
   "metadata": {
    "id": "TKAI_oyNBGVd"
   },
   "source": [
    "## No preprocessing on EEG."
   ]
  },
  {
   "cell_type": "code",
   "execution_count": 16,
   "metadata": {
    "colab": {
     "base_uri": "https://localhost:8080/",
     "height": 571
    },
    "id": "-8J-ZBUXCr-3",
    "outputId": "1ea1b7f4-601f-44b0-b349-d499ea12143d"
   },
   "outputs": [
    {
     "name": "stdout",
     "output_type": "stream",
     "text": [
      "Training the model...\n",
      "Dataset:  HGD\n",
      "Number of subjects:  14\n",
      "Data path:  dataset/\n",
      "Standardization:  True\n",
      "Leave-one-subject-out:  False\n",
      "\n",
      "Training on subject  1\n",
      "Sto per chiamare get_data\n",
      "Path dati:  dataset/\n",
      "Creating RawArray with float64 data, n_channels=128, n_times=1225545\n",
      "    Range : 0 ... 1225544 =      0.000 ...  2451.088 secs\n",
      "Ready.\n",
      "cnt: <RawArray | 129 x 1225545 (2451.1 s), ~1.18 GiB, data loaded>\n",
      "320 events found on stim channel STI 014\n",
      "Event IDs: [2 4 6 8]\n",
      "Event codes presenti: [2 4 6 8]\n",
      "Markers in cnt: <Annotations | 320 segments: Feet (80), Left Hand (80), Rest (80), Right ...>\n",
      "Markers in cnt description: ['Rest' 'Feet' 'Left Hand' 'Right Hand' 'Rest' 'Right Hand' 'Feet'\n",
      " 'Left Hand' 'Right Hand' 'Rest' 'Left Hand' 'Feet' 'Left Hand' 'Feet'\n",
      " 'Rest' 'Right Hand' 'Right Hand' 'Feet' 'Rest' 'Left Hand' 'Rest' 'Feet'\n",
      " 'Left Hand' 'Right Hand' 'Rest' 'Right Hand' 'Left Hand' 'Feet' 'Feet'\n",
      " 'Rest' 'Right Hand' 'Left Hand' 'Feet' 'Left Hand' 'Right Hand' 'Rest'\n",
      " 'Right Hand' 'Rest' 'Feet' 'Left Hand' 'Feet' 'Left Hand' 'Right Hand'\n",
      " 'Rest' 'Rest' 'Left Hand' 'Feet' 'Right Hand' 'Feet' 'Rest' 'Right Hand'\n",
      " 'Left Hand' 'Rest' 'Right Hand' 'Feet' 'Left Hand' 'Right Hand' 'Feet'\n",
      " 'Left Hand' 'Rest' 'Feet' 'Rest' 'Left Hand' 'Right Hand' 'Left Hand'\n",
      " 'Feet' 'Right Hand' 'Rest' 'Right Hand' 'Left Hand' 'Feet' 'Rest'\n",
      " 'Left Hand' 'Feet' 'Right Hand' 'Rest' 'Right Hand' 'Feet' 'Rest'\n",
      " 'Left Hand' 'Left Hand' 'Rest' 'Right Hand' 'Feet' 'Feet' 'Right Hand'\n",
      " 'Rest' 'Left Hand' 'Feet' 'Rest' 'Left Hand' 'Right Hand' 'Rest'\n",
      " 'Left Hand' 'Feet' 'Right Hand' 'Left Hand' 'Feet' 'Right Hand' 'Rest'\n",
      " 'Feet' 'Right Hand' 'Left Hand' 'Rest' 'Rest' 'Left Hand' 'Feet'\n",
      " 'Right Hand' 'Feet' 'Rest' 'Left Hand' 'Right Hand' 'Feet' 'Rest'\n",
      " 'Right Hand' 'Left Hand' 'Rest' 'Right Hand' 'Feet' 'Left Hand' 'Rest'\n",
      " 'Right Hand' 'Feet' 'Left Hand' 'Left Hand' 'Right Hand' 'Feet' 'Rest'\n",
      " 'Left Hand' 'Rest' 'Right Hand' 'Feet' 'Rest' 'Feet' 'Left Hand'\n",
      " 'Right Hand' 'Left Hand' 'Rest' 'Right Hand' 'Feet' 'Rest' 'Right Hand'\n",
      " 'Feet' 'Left Hand' 'Left Hand' 'Right Hand' 'Rest' 'Feet' 'Rest' 'Feet'\n",
      " 'Left Hand' 'Right Hand' 'Rest' 'Feet' 'Right Hand' 'Left Hand'\n",
      " 'Left Hand' 'Feet' 'Right Hand' 'Rest' 'Right Hand' 'Feet' 'Left Hand'\n",
      " 'Rest' 'Right Hand' 'Rest' 'Feet' 'Left Hand' 'Right Hand' 'Left Hand'\n",
      " 'Rest' 'Feet' 'Right Hand' 'Feet' 'Left Hand' 'Rest' 'Feet' 'Right Hand'\n",
      " 'Rest' 'Left Hand' 'Right Hand' 'Rest' 'Left Hand' 'Feet' 'Rest' 'Feet'\n",
      " 'Left Hand' 'Right Hand' 'Feet' 'Left Hand' 'Right Hand' 'Rest'\n",
      " 'Left Hand' 'Rest' 'Right Hand' 'Feet' 'Feet' 'Rest' 'Right Hand'\n",
      " 'Left Hand' 'Rest' 'Feet' 'Right Hand' 'Left Hand' 'Left Hand'\n",
      " 'Right Hand' 'Feet' 'Rest' 'Right Hand' 'Rest' 'Feet' 'Left Hand'\n",
      " 'Right Hand' 'Feet' 'Left Hand' 'Rest' 'Rest' 'Feet' 'Left Hand'\n",
      " 'Right Hand' 'Left Hand' 'Rest' 'Right Hand' 'Feet' 'Right Hand'\n",
      " 'Left Hand' 'Rest' 'Feet' 'Right Hand' 'Left Hand' 'Feet' 'Rest'\n",
      " 'Right Hand' 'Left Hand' 'Feet' 'Rest' 'Rest' 'Feet' 'Left Hand'\n",
      " 'Right Hand' 'Rest' 'Right Hand' 'Left Hand' 'Feet' 'Left Hand' 'Feet'\n",
      " 'Rest' 'Right Hand' 'Right Hand' 'Rest' 'Feet' 'Left Hand' 'Right Hand'\n",
      " 'Left Hand' 'Rest' 'Feet' 'Right Hand' 'Rest' 'Feet' 'Left Hand'\n",
      " 'Right Hand' 'Feet' 'Rest' 'Left Hand' 'Feet' 'Right Hand' 'Left Hand'\n",
      " 'Rest' 'Rest' 'Feet' 'Right Hand' 'Left Hand' 'Right Hand' 'Rest'\n",
      " 'Left Hand' 'Feet' 'Rest' 'Left Hand' 'Right Hand' 'Feet' 'Feet'\n",
      " 'Left Hand' 'Rest' 'Right Hand' 'Right Hand' 'Left Hand' 'Feet' 'Rest'\n",
      " 'Right Hand' 'Left Hand' 'Feet' 'Rest' 'Right Hand' 'Left Hand' 'Rest'\n",
      " 'Feet' 'Left Hand' 'Feet' 'Rest' 'Right Hand' 'Feet' 'Rest' 'Right Hand'\n",
      " 'Left Hand' 'Right Hand' 'Left Hand' 'Rest' 'Feet' 'Rest' 'Feet'\n",
      " 'Left Hand' 'Right Hand' 'Feet' 'Left Hand' 'Rest' 'Right Hand' 'Rest'\n",
      " 'Feet' 'Right Hand' 'Left Hand']\n",
      "DEBUG: cnt.get_data() shape before calling create_signal_target_from_raw_mne: (129, 1225545)\n",
      "cnt shape: (129, 1225545)\n",
      "cnt data preview: [[-43.98799896 -43.77999878 -42.9129982  ... -43.66500092 -34.90299988\n",
      "  -32.79399872]\n",
      " [-52.11600113 -52.10599899 -49.50299835 ... -56.00099945 -46.6629982\n",
      "  -43.30400085]\n",
      " [-52.49900055 -49.98199844 -46.50299835 ... -62.52600098 -50.84600067\n",
      "  -43.17900085]\n",
      " ...\n",
      " [215.45100403 169.94799805 172.41900635 ... 267.24200439 159.48699951\n",
      "  113.41300201]\n",
      " [195.75900269 176.55200195 185.125      ... 237.80299377 181.05599976\n",
      "  148.23899841]\n",
      " [  0.           0.           0.         ...   0.           0.\n",
      "    0.        ]]\n",
      "Markers in cnt: <Annotations | 320 segments: Feet (80), Left Hand (80), Rest (80), Right ...>\n",
      "Markers in cnt: ['Rest' 'Feet' 'Left Hand' 'Right Hand' 'Rest' 'Right Hand' 'Feet'\n",
      " 'Left Hand' 'Right Hand' 'Rest' 'Left Hand' 'Feet' 'Left Hand' 'Feet'\n",
      " 'Rest' 'Right Hand' 'Right Hand' 'Feet' 'Rest' 'Left Hand' 'Rest' 'Feet'\n",
      " 'Left Hand' 'Right Hand' 'Rest' 'Right Hand' 'Left Hand' 'Feet' 'Feet'\n",
      " 'Rest' 'Right Hand' 'Left Hand' 'Feet' 'Left Hand' 'Right Hand' 'Rest'\n",
      " 'Right Hand' 'Rest' 'Feet' 'Left Hand' 'Feet' 'Left Hand' 'Right Hand'\n",
      " 'Rest' 'Rest' 'Left Hand' 'Feet' 'Right Hand' 'Feet' 'Rest' 'Right Hand'\n",
      " 'Left Hand' 'Rest' 'Right Hand' 'Feet' 'Left Hand' 'Right Hand' 'Feet'\n",
      " 'Left Hand' 'Rest' 'Feet' 'Rest' 'Left Hand' 'Right Hand' 'Left Hand'\n",
      " 'Feet' 'Right Hand' 'Rest' 'Right Hand' 'Left Hand' 'Feet' 'Rest'\n",
      " 'Left Hand' 'Feet' 'Right Hand' 'Rest' 'Right Hand' 'Feet' 'Rest'\n",
      " 'Left Hand' 'Left Hand' 'Rest' 'Right Hand' 'Feet' 'Feet' 'Right Hand'\n",
      " 'Rest' 'Left Hand' 'Feet' 'Rest' 'Left Hand' 'Right Hand' 'Rest'\n",
      " 'Left Hand' 'Feet' 'Right Hand' 'Left Hand' 'Feet' 'Right Hand' 'Rest'\n",
      " 'Feet' 'Right Hand' 'Left Hand' 'Rest' 'Rest' 'Left Hand' 'Feet'\n",
      " 'Right Hand' 'Feet' 'Rest' 'Left Hand' 'Right Hand' 'Feet' 'Rest'\n",
      " 'Right Hand' 'Left Hand' 'Rest' 'Right Hand' 'Feet' 'Left Hand' 'Rest'\n",
      " 'Right Hand' 'Feet' 'Left Hand' 'Left Hand' 'Right Hand' 'Feet' 'Rest'\n",
      " 'Left Hand' 'Rest' 'Right Hand' 'Feet' 'Rest' 'Feet' 'Left Hand'\n",
      " 'Right Hand' 'Left Hand' 'Rest' 'Right Hand' 'Feet' 'Rest' 'Right Hand'\n",
      " 'Feet' 'Left Hand' 'Left Hand' 'Right Hand' 'Rest' 'Feet' 'Rest' 'Feet'\n",
      " 'Left Hand' 'Right Hand' 'Rest' 'Feet' 'Right Hand' 'Left Hand'\n",
      " 'Left Hand' 'Feet' 'Right Hand' 'Rest' 'Right Hand' 'Feet' 'Left Hand'\n",
      " 'Rest' 'Right Hand' 'Rest' 'Feet' 'Left Hand' 'Right Hand' 'Left Hand'\n",
      " 'Rest' 'Feet' 'Right Hand' 'Feet' 'Left Hand' 'Rest' 'Feet' 'Right Hand'\n",
      " 'Rest' 'Left Hand' 'Right Hand' 'Rest' 'Left Hand' 'Feet' 'Rest' 'Feet'\n",
      " 'Left Hand' 'Right Hand' 'Feet' 'Left Hand' 'Right Hand' 'Rest'\n",
      " 'Left Hand' 'Rest' 'Right Hand' 'Feet' 'Feet' 'Rest' 'Right Hand'\n",
      " 'Left Hand' 'Rest' 'Feet' 'Right Hand' 'Left Hand' 'Left Hand'\n",
      " 'Right Hand' 'Feet' 'Rest' 'Right Hand' 'Rest' 'Feet' 'Left Hand'\n",
      " 'Right Hand' 'Feet' 'Left Hand' 'Rest' 'Rest' 'Feet' 'Left Hand'\n",
      " 'Right Hand' 'Left Hand' 'Rest' 'Right Hand' 'Feet' 'Right Hand'\n",
      " 'Left Hand' 'Rest' 'Feet' 'Right Hand' 'Left Hand' 'Feet' 'Rest'\n",
      " 'Right Hand' 'Left Hand' 'Feet' 'Rest' 'Rest' 'Feet' 'Left Hand'\n",
      " 'Right Hand' 'Rest' 'Right Hand' 'Left Hand' 'Feet' 'Left Hand' 'Feet'\n",
      " 'Rest' 'Right Hand' 'Right Hand' 'Rest' 'Feet' 'Left Hand' 'Right Hand'\n",
      " 'Left Hand' 'Rest' 'Feet' 'Right Hand' 'Rest' 'Feet' 'Left Hand'\n",
      " 'Right Hand' 'Feet' 'Rest' 'Left Hand' 'Feet' 'Right Hand' 'Left Hand'\n",
      " 'Rest' 'Rest' 'Feet' 'Right Hand' 'Left Hand' 'Right Hand' 'Rest'\n",
      " 'Left Hand' 'Feet' 'Rest' 'Left Hand' 'Right Hand' 'Feet' 'Feet'\n",
      " 'Left Hand' 'Rest' 'Right Hand' 'Right Hand' 'Left Hand' 'Feet' 'Rest'\n",
      " 'Right Hand' 'Left Hand' 'Feet' 'Rest' 'Right Hand' 'Left Hand' 'Rest'\n",
      " 'Feet' 'Left Hand' 'Feet' 'Rest' 'Right Hand' 'Feet' 'Rest' 'Right Hand'\n",
      " 'Left Hand' 'Right Hand' 'Left Hand' 'Rest' 'Feet' 'Rest' 'Feet'\n",
      " 'Left Hand' 'Right Hand' 'Feet' 'Left Hand' 'Rest' 'Right Hand' 'Rest'\n",
      " 'Feet' 'Right Hand' 'Left Hand']\n",
      "DEBUG: set_for_cleaning type: <class 'braindecode.datautil.signal_target.SignalAndTarget'>\n",
      "DEBUG: set_for_cleaning attributes: ['X', '__class__', '__delattr__', '__dict__', '__dir__', '__doc__', '__eq__', '__format__', '__ge__', '__getattribute__', '__gt__', '__hash__', '__init__', '__init_subclass__', '__le__', '__lt__', '__module__', '__ne__', '__new__', '__reduce__', '__reduce_ex__', '__repr__', '__setattr__', '__sizeof__', '__str__', '__subclasshook__', '__weakref__', 'y']\n",
      "DEBUG: set_for_cleaning.X shape: (0,)\n",
      "DEBUG: set_for_cleaning.X content: EMPTY\n",
      "set_for_cleaning.X shape: (0,)\n",
      "set_for_cleaning.X content: []\n"
     ]
    },
    {
     "ename": "AxisError",
     "evalue": "axis 1 is out of bounds for array of dimension 1",
     "output_type": "error",
     "traceback": [
      "\u001b[0;31m---------------------------------------------------------------------------\u001b[0m",
      "\u001b[0;31mAxisError\u001b[0m                                 Traceback (most recent call last)",
      "Cell \u001b[0;32mIn[16], line 1\u001b[0m\n\u001b[0;32m----> 1\u001b[0m \u001b[43mrun\u001b[49m\u001b[43m(\u001b[49m\u001b[38;5;124;43m\"\u001b[39;49m\u001b[38;5;124;43mnone\u001b[39;49m\u001b[38;5;124;43m\"\u001b[39;49m\u001b[43m)\u001b[49m\n",
      "Cell \u001b[0;32mIn[15], line 53\u001b[0m, in \u001b[0;36mrun\u001b[0;34m(signal_preprocessing)\u001b[0m\n\u001b[1;32m     51\u001b[0m \u001b[38;5;66;03m# Train the model\u001b[39;00m\n\u001b[1;32m     52\u001b[0m \u001b[38;5;28mprint\u001b[39m(\u001b[38;5;124m\"\u001b[39m\u001b[38;5;124mTraining the model...\u001b[39m\u001b[38;5;124m\"\u001b[39m)\n\u001b[0;32m---> 53\u001b[0m \u001b[43mtrain\u001b[49m\u001b[43m(\u001b[49m\u001b[43mdataset_conf\u001b[49m\u001b[43m,\u001b[49m\u001b[43m \u001b[49m\u001b[43mtrain_conf\u001b[49m\u001b[43m,\u001b[49m\u001b[43m \u001b[49m\u001b[43mresults_path\u001b[49m\u001b[43m)\u001b[49m\n\u001b[1;32m     54\u001b[0m \u001b[38;5;28mprint\u001b[39m(\u001b[38;5;124m\"\u001b[39m\u001b[38;5;124mTraining completed!\u001b[39m\u001b[38;5;124m\"\u001b[39m)\n\u001b[1;32m     56\u001b[0m \u001b[38;5;66;03m# Evaluate the model based on the weights saved in the '/results' folder\u001b[39;00m\n",
      "Cell \u001b[0;32mIn[12], line 57\u001b[0m, in \u001b[0;36mtrain\u001b[0;34m(dataset_conf, train_conf, results_path)\u001b[0m\n\u001b[1;32m     55\u001b[0m \u001b[38;5;66;03m# Get training and validation data\u001b[39;00m\n\u001b[1;32m     56\u001b[0m \u001b[38;5;28mprint\u001b[39m(\u001b[38;5;124m\"\u001b[39m\u001b[38;5;124mSto per chiamare get_data\u001b[39m\u001b[38;5;124m\"\u001b[39m)\n\u001b[0;32m---> 57\u001b[0m X_train, _, y_train_onehot, _, _, _ \u001b[38;5;241m=\u001b[39m \u001b[43mget_data\u001b[49m\u001b[43m(\u001b[49m\n\u001b[1;32m     58\u001b[0m \u001b[43m    \u001b[49m\u001b[43mdata_path\u001b[49m\u001b[43m,\u001b[49m\u001b[43m \u001b[49m\u001b[43msub\u001b[49m\u001b[43m,\u001b[49m\u001b[43m \u001b[49m\u001b[43mdataset\u001b[49m\u001b[43m,\u001b[49m\u001b[43m \u001b[49m\u001b[43mLOSO\u001b[49m\u001b[43m \u001b[49m\u001b[38;5;241;43m=\u001b[39;49m\u001b[43m \u001b[49m\u001b[43mLOSO\u001b[49m\u001b[43m,\u001b[49m\u001b[43m \u001b[49m\u001b[43misStandard\u001b[49m\u001b[43m \u001b[49m\u001b[38;5;241;43m=\u001b[39;49m\u001b[43m \u001b[49m\u001b[43misStandard\u001b[49m\u001b[43m)\u001b[49m\n\u001b[1;32m     60\u001b[0m \u001b[38;5;28mprint\u001b[39m(\u001b[38;5;124m\"\u001b[39m\u001b[38;5;124mDopo get_data\u001b[39m\u001b[38;5;124m\"\u001b[39m)\n\u001b[1;32m     61\u001b[0m \u001b[38;5;28mprint\u001b[39m(\u001b[38;5;124m\"\u001b[39m\u001b[38;5;124mX_train shape is:\u001b[39m\u001b[38;5;124m\"\u001b[39m\u001b[38;5;241m+\u001b[39m\u001b[38;5;28mstr\u001b[39m(X_train\u001b[38;5;241m.\u001b[39mshape))\n",
      "File \u001b[0;32m~/Desktop/UNIPA CdLM Ing_Informatica/Tesi/CodiceBCI/EEG-ATCNet/preprocess.py:346\u001b[0m, in \u001b[0;36mget_data\u001b[0;34m(path, subject, dataset, classes_labels, LOSO, isStandard, isShuffle)\u001b[0m\n\u001b[1;32m    344\u001b[0m     path \u001b[38;5;241m=\u001b[39m path \n\u001b[1;32m    345\u001b[0m     \u001b[38;5;28mprint\u001b[39m(\u001b[38;5;124m\"\u001b[39m\u001b[38;5;124mPath dati: \u001b[39m\u001b[38;5;124m\"\u001b[39m,path)\n\u001b[0;32m--> 346\u001b[0m     X_train, y_train \u001b[38;5;241m=\u001b[39m \u001b[43mload_HGD_data\u001b[49m\u001b[43m(\u001b[49m\u001b[43mpath\u001b[49m\u001b[43m,\u001b[49m\u001b[43m \u001b[49m\u001b[43msubject\u001b[49m\u001b[38;5;241;43m+\u001b[39;49m\u001b[38;5;241;43m1\u001b[39;49m\u001b[43m,\u001b[49m\u001b[43m \u001b[49m\u001b[38;5;28;43;01mTrue\u001b[39;49;00m\u001b[43m)\u001b[49m\n\u001b[1;32m    347\u001b[0m     X_test, y_test \u001b[38;5;241m=\u001b[39m load_HGD_data(path, subject\u001b[38;5;241m+\u001b[39m\u001b[38;5;241m1\u001b[39m, \u001b[38;5;28;01mFalse\u001b[39;00m)\n\u001b[1;32m    348\u001b[0m \u001b[38;5;28;01melse\u001b[39;00m:\n",
      "File \u001b[0;32m~/Desktop/UNIPA CdLM Ing_Informatica/Tesi/CodiceBCI/EEG-ATCNet/preprocess_HGD.py:125\u001b[0m, in \u001b[0;36mload_HGD_data\u001b[0;34m(data_path, subject, training, low_cut_hz, debug)\u001b[0m\n\u001b[1;32m    122\u001b[0m \u001b[38;5;28mprint\u001b[39m(\u001b[38;5;124m\"\u001b[39m\u001b[38;5;124mset_for_cleaning.X shape:\u001b[39m\u001b[38;5;124m\"\u001b[39m, set_for_cleaning\u001b[38;5;241m.\u001b[39mX\u001b[38;5;241m.\u001b[39mshape)\n\u001b[1;32m    123\u001b[0m \u001b[38;5;28mprint\u001b[39m(\u001b[38;5;124m\"\u001b[39m\u001b[38;5;124mset_for_cleaning.X content:\u001b[39m\u001b[38;5;124m\"\u001b[39m, set_for_cleaning\u001b[38;5;241m.\u001b[39mX)\n\u001b[0;32m--> 125\u001b[0m clean_trial_mask \u001b[38;5;241m=\u001b[39m \u001b[43mnp\u001b[49m\u001b[38;5;241;43m.\u001b[39;49m\u001b[43mmax\u001b[49m\u001b[43m(\u001b[49m\u001b[43mnp\u001b[49m\u001b[38;5;241;43m.\u001b[39;49m\u001b[43mabs\u001b[49m\u001b[43m(\u001b[49m\u001b[43mset_for_cleaning\u001b[49m\u001b[38;5;241;43m.\u001b[39;49m\u001b[43mX\u001b[49m\u001b[43m)\u001b[49m\u001b[43m,\u001b[49m\u001b[43m \u001b[49m\u001b[43maxis\u001b[49m\u001b[38;5;241;43m=\u001b[39;49m\u001b[43m(\u001b[49m\u001b[38;5;241;43m1\u001b[39;49m\u001b[43m,\u001b[49m\u001b[43m \u001b[49m\u001b[38;5;241;43m2\u001b[39;49m\u001b[43m)\u001b[49m\u001b[43m)\u001b[49m \u001b[38;5;241m<\u001b[39m \u001b[38;5;241m800\u001b[39m\n\u001b[1;32m    127\u001b[0m log\u001b[38;5;241m.\u001b[39minfo(\u001b[38;5;124m\"\u001b[39m\u001b[38;5;124mClean trials: \u001b[39m\u001b[38;5;132;01m{:3d}\u001b[39;00m\u001b[38;5;124m  of \u001b[39m\u001b[38;5;132;01m{:3d}\u001b[39;00m\u001b[38;5;124m (\u001b[39m\u001b[38;5;132;01m{:5.1f}\u001b[39;00m\u001b[38;5;124m%\u001b[39m\u001b[38;5;124m)\u001b[39m\u001b[38;5;124m\"\u001b[39m\u001b[38;5;241m.\u001b[39mformat(\n\u001b[1;32m    128\u001b[0m     np\u001b[38;5;241m.\u001b[39msum(clean_trial_mask),\n\u001b[1;32m    129\u001b[0m     \u001b[38;5;28mlen\u001b[39m(set_for_cleaning\u001b[38;5;241m.\u001b[39mX),\n\u001b[1;32m    130\u001b[0m     np\u001b[38;5;241m.\u001b[39mmean(clean_trial_mask) \u001b[38;5;241m*\u001b[39m \u001b[38;5;241m100\u001b[39m))\n\u001b[1;32m    132\u001b[0m \u001b[38;5;66;03m# now pick only sensors with C in their name\u001b[39;00m\n\u001b[1;32m    133\u001b[0m \u001b[38;5;66;03m# as they cover motor cortex\u001b[39;00m\n",
      "File \u001b[0;32m/Library/Frameworks/Python.framework/Versions/3.10/lib/python3.10/site-packages/numpy/core/fromnumeric.py:2810\u001b[0m, in \u001b[0;36mmax\u001b[0;34m(a, axis, out, keepdims, initial, where)\u001b[0m\n\u001b[1;32m   2692\u001b[0m \u001b[38;5;129m@array_function_dispatch\u001b[39m(_max_dispatcher)\n\u001b[1;32m   2693\u001b[0m \u001b[38;5;129m@set_module\u001b[39m(\u001b[38;5;124m'\u001b[39m\u001b[38;5;124mnumpy\u001b[39m\u001b[38;5;124m'\u001b[39m)\n\u001b[1;32m   2694\u001b[0m \u001b[38;5;28;01mdef\u001b[39;00m \u001b[38;5;21mmax\u001b[39m(a, axis\u001b[38;5;241m=\u001b[39m\u001b[38;5;28;01mNone\u001b[39;00m, out\u001b[38;5;241m=\u001b[39m\u001b[38;5;28;01mNone\u001b[39;00m, keepdims\u001b[38;5;241m=\u001b[39mnp\u001b[38;5;241m.\u001b[39m_NoValue, initial\u001b[38;5;241m=\u001b[39mnp\u001b[38;5;241m.\u001b[39m_NoValue,\n\u001b[1;32m   2695\u001b[0m          where\u001b[38;5;241m=\u001b[39mnp\u001b[38;5;241m.\u001b[39m_NoValue):\n\u001b[1;32m   2696\u001b[0m \u001b[38;5;250m    \u001b[39m\u001b[38;5;124;03m\"\"\"\u001b[39;00m\n\u001b[1;32m   2697\u001b[0m \u001b[38;5;124;03m    Return the maximum of an array or maximum along an axis.\u001b[39;00m\n\u001b[1;32m   2698\u001b[0m \n\u001b[0;32m   (...)\u001b[0m\n\u001b[1;32m   2808\u001b[0m \u001b[38;5;124;03m    5\u001b[39;00m\n\u001b[1;32m   2809\u001b[0m \u001b[38;5;124;03m    \"\"\"\u001b[39;00m\n\u001b[0;32m-> 2810\u001b[0m     \u001b[38;5;28;01mreturn\u001b[39;00m \u001b[43m_wrapreduction\u001b[49m\u001b[43m(\u001b[49m\u001b[43ma\u001b[49m\u001b[43m,\u001b[49m\u001b[43m \u001b[49m\u001b[43mnp\u001b[49m\u001b[38;5;241;43m.\u001b[39;49m\u001b[43mmaximum\u001b[49m\u001b[43m,\u001b[49m\u001b[43m \u001b[49m\u001b[38;5;124;43m'\u001b[39;49m\u001b[38;5;124;43mmax\u001b[39;49m\u001b[38;5;124;43m'\u001b[39;49m\u001b[43m,\u001b[49m\u001b[43m \u001b[49m\u001b[43maxis\u001b[49m\u001b[43m,\u001b[49m\u001b[43m \u001b[49m\u001b[38;5;28;43;01mNone\u001b[39;49;00m\u001b[43m,\u001b[49m\u001b[43m \u001b[49m\u001b[43mout\u001b[49m\u001b[43m,\u001b[49m\n\u001b[1;32m   2811\u001b[0m \u001b[43m                          \u001b[49m\u001b[43mkeepdims\u001b[49m\u001b[38;5;241;43m=\u001b[39;49m\u001b[43mkeepdims\u001b[49m\u001b[43m,\u001b[49m\u001b[43m \u001b[49m\u001b[43minitial\u001b[49m\u001b[38;5;241;43m=\u001b[39;49m\u001b[43minitial\u001b[49m\u001b[43m,\u001b[49m\u001b[43m \u001b[49m\u001b[43mwhere\u001b[49m\u001b[38;5;241;43m=\u001b[39;49m\u001b[43mwhere\u001b[49m\u001b[43m)\u001b[49m\n",
      "File \u001b[0;32m/Library/Frameworks/Python.framework/Versions/3.10/lib/python3.10/site-packages/numpy/core/fromnumeric.py:88\u001b[0m, in \u001b[0;36m_wrapreduction\u001b[0;34m(obj, ufunc, method, axis, dtype, out, **kwargs)\u001b[0m\n\u001b[1;32m     85\u001b[0m         \u001b[38;5;28;01melse\u001b[39;00m:\n\u001b[1;32m     86\u001b[0m             \u001b[38;5;28;01mreturn\u001b[39;00m reduction(axis\u001b[38;5;241m=\u001b[39maxis, out\u001b[38;5;241m=\u001b[39mout, \u001b[38;5;241m*\u001b[39m\u001b[38;5;241m*\u001b[39mpasskwargs)\n\u001b[0;32m---> 88\u001b[0m \u001b[38;5;28;01mreturn\u001b[39;00m \u001b[43mufunc\u001b[49m\u001b[38;5;241;43m.\u001b[39;49m\u001b[43mreduce\u001b[49m\u001b[43m(\u001b[49m\u001b[43mobj\u001b[49m\u001b[43m,\u001b[49m\u001b[43m \u001b[49m\u001b[43maxis\u001b[49m\u001b[43m,\u001b[49m\u001b[43m \u001b[49m\u001b[43mdtype\u001b[49m\u001b[43m,\u001b[49m\u001b[43m \u001b[49m\u001b[43mout\u001b[49m\u001b[43m,\u001b[49m\u001b[43m \u001b[49m\u001b[38;5;241;43m*\u001b[39;49m\u001b[38;5;241;43m*\u001b[39;49m\u001b[43mpasskwargs\u001b[49m\u001b[43m)\u001b[49m\n",
      "\u001b[0;31mAxisError\u001b[0m: axis 1 is out of bounds for array of dimension 1"
     ]
    }
   ],
   "source": [
    "run(\"none\")"
   ]
  },
  {
   "cell_type": "markdown",
   "metadata": {
    "id": "kmgl52x4BRnm"
   },
   "source": [
    "## DB4 (Soft) Preprocessing."
   ]
  },
  {
   "cell_type": "code",
   "execution_count": null,
   "metadata": {
    "id": "SKWBjWr9BWb5"
   },
   "outputs": [],
   "source": [
    "run(\"db4_soft\")"
   ]
  },
  {
   "cell_type": "markdown",
   "metadata": {
    "id": "YcAuThEQBWy3"
   },
   "source": [
    "## DB4 (Hard) Preprocessing."
   ]
  },
  {
   "cell_type": "code",
   "execution_count": null,
   "metadata": {
    "id": "T6vR-NHTBaLg"
   },
   "outputs": [],
   "source": [
    "run(\"db4_hard\")"
   ]
  },
  {
   "cell_type": "markdown",
   "metadata": {
    "id": "Sas6wn-n9bVV"
   },
   "source": [
    "## RDWT"
   ]
  },
  {
   "cell_type": "code",
   "execution_count": null,
   "metadata": {
    "id": "AanpQPu49dhp"
   },
   "outputs": [],
   "source": [
    "run(\"rdwt\")"
   ]
  }
 ],
 "metadata": {
  "colab": {
   "provenance": []
  },
  "kernelspec": {
   "display_name": "Python 3",
   "name": "python3"
  },
  "language_info": {
   "codemirror_mode": {
    "name": "ipython",
    "version": 3
   },
   "file_extension": ".py",
   "mimetype": "text/x-python",
   "name": "python",
   "nbconvert_exporter": "python",
   "pygments_lexer": "ipython3",
   "version": "3.10.5"
  }
 },
 "nbformat": 4,
 "nbformat_minor": 0
}
